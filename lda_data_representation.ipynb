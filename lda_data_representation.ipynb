{
 "cells": [
  {
   "cell_type": "code",
   "execution_count": 11,
   "metadata": {
    "collapsed": false
   },
   "outputs": [
    {
     "name": "stdout",
     "output_type": "stream",
     "text": [
      "Done\n"
     ]
    }
   ],
   "source": [
    "# Using LDA package\n",
    "# https://pypi.python.org/pypi/lda\n",
    "\n",
    "from sklearn.externals import joblib\n",
    "\n",
    "import numpy as np\n",
    "import pandas\n",
    "import preprocess_text_data\n",
    "import sklearn.decomposition\n",
    "\n",
    "print(\"Done\")"
   ]
  },
  {
   "cell_type": "code",
   "execution_count": 7,
   "metadata": {
    "collapsed": false
   },
   "outputs": [],
   "source": [
    "INPUT_FILE = 'train.csv'\n",
    "OUTPUT_FILE = '%s_lda_30.csv' % INPUT_FILE.split(\".\")[0]\n",
    "MIN_WORD_COUNT = 50\n",
    "\n",
    "X, vocab = preprocess_text_data.get_lda_training_data(\n",
    "    INPUT_FILE, 'CompleteJobListing', MIN_WORD_COUNT)"
   ]
  },
  {
   "cell_type": "code",
   "execution_count": 9,
   "metadata": {
    "collapsed": false
   },
   "outputs": [
    {
     "name": "stdout",
     "output_type": "stream",
     "text": [
      "(195971, 13033)\n"
     ]
    }
   ],
   "source": [
    "print(X.shape)"
   ]
  },
  {
   "cell_type": "code",
   "execution_count": 3,
   "metadata": {
    "collapsed": false
   },
   "outputs": [
    {
     "data": {
      "text/plain": [
       "['lda_model.pkl']"
      ]
     },
     "execution_count": 3,
     "metadata": {},
     "output_type": "execute_result"
    }
   ],
   "source": [
    "# If I do batch learning rather than mini batch, I run out of RAM.\n",
    "\n",
    "model = sklearn.decomposition.LatentDirichletAllocation(\n",
    "    n_topics=30, max_iter=1000, random_state=1, learning_method='online',\n",
    "    batch_size=16384, n_jobs=-1, verbose=10)\n",
    "\n",
    "model.fit_transform(X)\n",
    "\n",
    "joblib.dump(model, 'lda_model.pkl') \n",
    "\n"
   ]
  },
  {
   "cell_type": "code",
   "execution_count": 3,
   "metadata": {
    "collapsed": false
   },
   "outputs": [],
   "source": [
    "# Load model back in\n",
    "model = joblib.load('lda_model.pkl')"
   ]
  },
  {
   "cell_type": "code",
   "execution_count": 6,
   "metadata": {
    "collapsed": false
   },
   "outputs": [
    {
     "name": "stdout",
     "output_type": "stream",
     "text": [
      "Topic 0: covered david enthusiast pts robust coal amazon dawson amazing interesting reserves kenilworth infusion ambiguity dorking\n",
      "Topic 1: buyers grounding mistake leads missile rail scott probing enthusiast giles coal kenilworth infusion don stat\n",
      "Topic 2: marketplace stott leads attentive refactoring resolve teksystems infusion sources businesses supervising ads option obsolescence drives\n",
      "Topic 3: lend literate delegation aerospace accessory chesterfield adolescents painter enthusiast really kilbride leads coal conveniently chief\n",
      "Topic 4: bridgend leadership peter leads enthusiast customerfocussed petrierecruitment sony debit robust resort really ipv cassellsliquidpersonnel leak\n",
      "Topic 5: giles chilled litigated mistake missile buyers enthusiast gifts trending supervising meters infusion gui kenilworth coal\n",
      "Topic 6: debate toilet enthusiast debit indoor coal sony induct robust opening handheld tribunals copies kilbride trending\n",
      "Topic 7: iterative drives ant enthusiast experis involved really trending adwords denmark bush infusion cotswolds purposes tribunals\n",
      "Topic 8: coal kenilworth stat campaigns infusion conclusions conclusion filter trending enthusiast concession psychiatry swift tribunals gwent\n",
      "Topic 9: halstead presence really bridgend enthusiast coal drives infusion tupe cleanliness kenilworth summaries indication leadership debit\n",
      "Topic 10: signature enthusiast source renttoown slightly mercedes homelessness transaction earners robust resilient coal interesting really journal\n",
      "Topic 11: pocket ledger peripheral coal collating perception reducing enthusiast peripatetic hi eclypse leads procurve mercurial perfectly\n",
      "Topic 12: mentoring school debate resilient arms debit enthusiast coal murphy lowest robust discrete infusion covering chesterfield\n",
      "Topic 13: presence coal buying bridgend complies really supervising chesterfield bunch multidisciplined kirklees ocs chief informed ireland\n",
      "Topic 14: david earnings earners peter enthusiast source petrierecruitment trending listen coal supervising kenilworth interesting moss dysphagia\n",
      "Topic 15: buyers signature observational trending gwent infusion kenilworth stat conclusions filter conclusion coal campaigns cmms streetworks\n",
      "Topic 16: refactoring bridgend coal mercurial leads engineersbmsuk accessory really debit supervising reps infusion kenilworth resort enthusiast\n",
      "Topic 17: lend bridgend leads peripatetic debit enthusiast insuring leighedenbrown leadership campaigns mercurial dean coal really climate\n",
      "Topic 18: leads coal enthusiast kilbride complexities kenilworth chesterfield infusion stat campaigns conclusion filter conclusions swiftly ocs\n",
      "Topic 19: eclypse correspondence sony robust resolve a24 trending psychiatry corrosion laurie interesting coal ecological pi forthcoming\n",
      "Topic 20: accomodation coal asciithemefont numeracy expansion leadership discounting enthusiast really robust prove manual kenilworth sony psychiatry\n",
      "Topic 21: expansion expatriate bridgend accommodating really coal enthusiast ocs leadership infusion kenilworth geoenvironmental stat conclusion conclusions\n",
      "Topic 22: routing trending enthusiast streetworks gifts moral coal sony drives tribunals triage infusion kenilworth supervising stat\n",
      "Topic 23: rs spectacle enthusiast debit speeds slightly earners robust source coal peripatetic sony tribunals interesting psychologist\n",
      "Topic 24: earners earnings lawson coal donations effort really listen enthusiast resolve slightly source trending ocs kenilworth\n",
      "Topic 25: coal gifts pair infusion cyber merger multivendor bars exposed bridgend composure informed improves tribunals kenilworth\n",
      "Topic 26: ccsp leads facilitates qsw guidance canary guildford coal enthusiast trending kenilworth intention germany supervising nordic\n",
      "Topic 27: relation son solving dockyard trending paye somerset infusion types kirklees kenilworth stat campaigns filter conclusions\n",
      "Topic 28: correspondence enthusiast coal stuart really robust resolve kenilworth tribunals stat infusion trending filter conclusion conclusions\n",
      "Topic 29: k_job leads sony quantum observational semantic french medication resolve buying correspondence relates corrosion streetworks melanie\n"
     ]
    }
   ],
   "source": [
    "topic_word = model.components_\n",
    "n_top_words = 15\n",
    "\n",
    "for i, topic_dist in enumerate(topic_word):\n",
    "  topic_words = np.array(vocab)[np.argsort(topic_dist)][:-(n_top_words+1):-1]\n",
    "  print('Topic {}: {}'.format(i, ' '.join(topic_words)))"
   ]
  },
  {
   "cell_type": "markdown",
   "metadata": {},
   "source": [
    "### Interesting note: Mini-Batch learning model with far fewer max_its takes far longer to train than learning without this."
   ]
  },
  {
   "cell_type": "code",
   "execution_count": 15,
   "metadata": {
    "collapsed": true
   },
   "outputs": [],
   "source": [
    "# This is, our 30 dimensional representation of the original data.\n",
    "\n",
    "df = pandas.DataFrame(topic_word)\n",
    "df.to_csv('data/%s' % OUTPUT_FILE, index=False)"
   ]
  },
  {
   "cell_type": "code",
   "execution_count": 10,
   "metadata": {
    "collapsed": false
   },
   "outputs": [
    {
     "name": "stdout",
     "output_type": "stream",
     "text": [
      "156379.103758\n"
     ]
    }
   ],
   "source": [
    "topic_word = model.components_\n",
    "df = pandas.DataFrame(topic_word)\n",
    "print(max(df.max()))"
   ]
  },
  {
   "cell_type": "code",
   "execution_count": null,
   "metadata": {
    "collapsed": true
   },
   "outputs": [],
   "source": []
  }
 ],
 "metadata": {
  "kernelspec": {
   "display_name": "Python 3",
   "language": "python",
   "name": "python3"
  },
  "language_info": {
   "codemirror_mode": {
    "name": "ipython",
    "version": 3
   },
   "file_extension": ".py",
   "mimetype": "text/x-python",
   "name": "python",
   "nbconvert_exporter": "python",
   "pygments_lexer": "ipython3",
   "version": "3.5.1"
  }
 },
 "nbformat": 4,
 "nbformat_minor": 0
}
