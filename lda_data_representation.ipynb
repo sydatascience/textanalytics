{
 "cells": [
  {
   "cell_type": "code",
   "execution_count": 1,
   "metadata": {
    "collapsed": false
   },
   "outputs": [
    {
     "name": "stdout",
     "output_type": "stream",
     "text": [
      "Done\n"
     ]
    }
   ],
   "source": [
    "# Using LDA package\n",
    "# https://pypi.python.org/pypi/lda\n",
    "\n",
    "import numpy as np\n",
    "import pandas\n",
    "import preprocess_text_data\n",
    "import sklearn.decomposition\n",
    "\n",
    "print(\"Done\")"
   ]
  },
  {
   "cell_type": "code",
   "execution_count": 2,
   "metadata": {
    "collapsed": false
   },
   "outputs": [],
   "source": [
    "INPUT_FILE = 'train.csv'\n",
    "OUTPUT_FILE = '%s_lda_50.csv' % INPUT_FILE.split(\".\")[0]\n",
    "MIN_WORD_COUNT = 50\n",
    "\n",
    "X, vocab = preprocess_text_data.get_lda_training_data(\n",
    "    INPUT_FILE, 'CompleteJobListing', MIN_WORD_COUNT)"
   ]
  },
  {
   "cell_type": "code",
   "execution_count": 3,
   "metadata": {
    "collapsed": false
   },
   "outputs": [
    {
     "name": "stdout",
     "output_type": "stream",
     "text": [
      "Topic 0: marketing online digital media experience search advertising campaigns content seo executive social company web campaign\n",
      "Topic 1: manager senior management experience role team company client financial services location permanent category contracttype contracttime\n",
      "Topic 2: research university scientific uk pharmaceutical clinical science experience degree company development medical associate laboratory work\n",
      "Topic 3: account media agency marketing client digital pr london role clients creative experience manager work advertising\n",
      "Topic 4: data analyst business experience sql analysis skills database sap oracle systems company role location reporting\n",
      "Topic 5: healthcare nursing nurse medical clinical experience nhs care hospital work patients health jobs uk location\n",
      "Topic 6: risk financial banking investment finance credit london cv trading role experience bank asset management accounting\n",
      "Topic 7: employment equal age opportunities employer resourcing applications capita disability agency race gender orientation people sexual\n",
      "Topic 8: company experience engineering cnc location title jobs work contracttype fulldescription contracttime category permanent working unknown_contracttype_value\n",
      "Topic 9: hr recruitment payroll role experience company twitter www jobs business jam com facebook employment linkedin\n",
      "Topic 10: support experience technical security systems network infrastructure windows server engineer skills service knowledge line company\n",
      "Topic 11: compliance regulatory officer x2022 mso affairs validation x2019 monitoring fsa regulations x2013 new device medical\n",
      "Topic 12: insurance bristol application removed hampshire url commercial southampton contact company location successful unsuccessful permanent jobs\n",
      "Topic 13: recruitment company career opportunity business role looking client permanent consultant successful team clients candidates excellent\n",
      "Topic 14: project projects experience manager engineering management client work uk senior company contract role construction programme\n",
      "Topic 15: care support people work healthcare training jobs company home location title worker nursing service provide\n",
      "Topic 16: sales business manager company account executive new development role uk selling jobs field market location\n",
      "Topic 17: retail manager marketing store product brand category company experience role team location jobs contracttime contracttype\n",
      "Topic 18: company construction london jobs location title experience fulldescription contracttype contracttime category building unknown_contracttype_value com client\n",
      "Topic 19: surrey english german speaking reading french berkshire language customer international fluent european skills uk company\n",
      "Topic 20: ensure team customer required work maintain ensuring support procedures provide appropriate requirements service company management\n",
      "Topic 21: finance accounting accounts financial role accountant company page management job reporting applications uk michael receive\n",
      "Topic 22: social work housing worker children experience team service care services working jobs qualified uk company\n",
      "Topic 23: test testing experience software qa automation agile requirements automated development quality analyst tester skills functional\n",
      "Topic 24: engineer maintenance electrical engineering company equipment mechanical service role work experience systems technical plant uk\n",
      "Topic 25: pension scheme benefits days holiday company salary bonus health package life healthcare holidays excellent 25\n",
      "Topic 26: chef manager restaurant hospitality catering food hotel company experience work location head uk partie team\n",
      "Topic 27: 2013 date february closing post application apply jobs location applications title uk fulldescription contracttime contracttype\n",
      "Topic 28: skills role experience company office team excellent work administrator working location good title fulldescription contracttype\n",
      "Topic 29: ll nbsp manager pound food mortgage pub assistant great kitchen career team amp bull business\n",
      "Topic 30: training skills experience learning work level qualification qualifications learners role company assessor education nvq teaching\n",
      "Topic 31: design engineer engineering experience technical mechanical systems company development electronics work knowledge engineers location jobs\n",
      "Topic 32: hours company location work title category fulldescription contracttype contracttime jobs unknown_contracttime_value week required experience working\n",
      "Topic 33: people ll team work need make best great help want career uk environment development working\n",
      "Topic 34: home care nursing nurse manager rgn registered experience healthcare staff elderly company location rmn jobs\n",
      "Topic 35: sales customer service customers company experience business skills work role new looking centre team targets\n",
      "Topic 36: motor trade manager sales automotive service vehicle jobs car technician uk placement perfect advisor parts\n",
      "Topic 37: staff care ensure team manager nursery children needs standards service development policies residents quality work\n",
      "Topic 38: legal firm property law experience work client jobs commercial role team location claims title solicitor\n",
      "Topic 39: software development experience java developer company skills team technical working technology systems role location jobs\n",
      "Topic 40: travel consultant dynamics business crm microsoft experience jobs uk company london sharepoint client role international\n",
      "Topic 41: employment recruitment agency business hays permanent job temporary specialist supply limited acts uk policy applying\n",
      "Topic 42: business management development team skills ability experience key manager delivery strong develop performance support manage\n",
      "Topic 43: safety health facilities work services management required equipment job site standards environmental maintenance security procedures\n",
      "Topic 44: net developer sql asp development server web company mvc experience skills software team vb client\n",
      "Topic 45: group water allegis applicant companies company data treatment limited opportunities job uk fulfilment largest world\n",
      "Topic 46: school teaching teacher education teachers primary work looking year pupils schools jobs london excellent location\n",
      "Topic 47: quality manufacturing production experience company process engineering role product manager supply improvement asbestos food technical\n",
      "Topic 48: essex kent hertfordshire milton keynes oxford buckinghamshire oxfordshire st cambridge northampton bedfordshire luton cambridgeshire watford\n",
      "Topic 49: web developer experience php javascript design html company css mobile development skills designer team working\n"
     ]
    }
   ],
   "source": [
    "model = sklearn.decomposition.LatentDirichletAllocation(\n",
    "    n_topics=50, max_iter=50, random_state=1, learning_method='online',\n",
    "    batch_size=16384, n_jobs=-1)\n",
    "model.fit(X)  # model.fit_transform(X) is also available\n",
    "\n",
    "topic_word = model.components_\n",
    "n_top_words = 15\n",
    "\n",
    "for i, topic_dist in enumerate(topic_word):\n",
    "  topic_words = np.array(vocab)[np.argsort(topic_dist)][:-(n_top_words+1):-1]\n",
    "  print('Topic {}: {}'.format(i, ' '.join(topic_words)))"
   ]
  },
  {
   "cell_type": "markdown",
   "metadata": {},
   "source": [
    "### Interesting note: Mini-Batch learning model with far fewer max_its takes far longer to train than learning without this."
   ]
  },
  {
   "cell_type": "code",
   "execution_count": 11,
   "metadata": {
    "collapsed": false
   },
   "outputs": [
    {
     "name": "stdout",
     "output_type": "stream",
     "text": [
      "Topic 0: advisor centre sales birmingham work potential commission self outbound uncapped training advisors driven environment earning\n",
      "Topic 1: children social young work officer protection worker child qualified team placement council safeguarding committed experience\n",
      "Topic 2: branch marine offshore garden naval subsea hall sutton controls onshore perth harrow salon macclesfield office\n",
      "Topic 3: allegis derby pharmacy labourer flame biology adam la area bathrooms consent carter pharmacist shopper aplitrak\n",
      "Topic 4: nbsp banking bull ndash rsquo taylor passenger aston meridian sabbatical elevation cc backoffice postings redis\n",
      "Topic 5: sap warehouse licensing fraud richard flt middot cognos nunit airline unloading avaya fork rhinomocks bacs\n",
      "Topic 6: carvery 149 hmrc toby protecting harvester nissan childhood vw rover vauxhall mazda aarca policing orgtel\n",
      "Topic 7: security bristol clearance defence sc bath cleared government ce vetting mod programme juniper mcs dv\n",
      "Topic 8: asbestos surveyor laboratory berkshire select surveyors lab contractors refurbishment endeavour surveying samples surveys consultants consultancy\n",
      "Topic 9: chef food hotel kitchen partie restaurant head sous work live high role pub fresh uk\n",
      "Topic 10: electronics electronic nursery cambridge design mathematics revenue fpga suitability phd chief streams cluster pcb level\n",
      "Topic 11: health post work centre occupational february locum mental gp uk assessment practitioner learners practice qualification\n",
      "Topic 12: work experience apply working required role cv position applicants candidates able hours job uk client\n",
      "Topic 13: financial finance accounts accountant reporting qualified business accounting credit audit management group role analyst controller\n",
      "Topic 14: store coach customer coaching optometrist nebosh cdm showroom upbeat optometry barring courier heathrow addresses ems\n",
      "Topic 15: commercial construction water contracts civil energy works environmental company building amp services clients contractor uk\n",
      "Topic 16: website www visit com http shifts work medical choose uk available apply pay chase alternatively\n",
      "Topic 17: firm tax corporate clients practice returns academy mark personal corecruitment qualified portfolio called advisory companies\n",
      "Topic 18: management experience business skills project team manager role ability work development working key client projects\n",
      "Topic 19: sales business account new executive clients customer client products company product customers manager market development\n",
      "Topic 20: recruitment consultant uk jobs days vacancies application contact motor car office business basic specialist candidates\n",
      "Topic 21: support infrastructure services microsoft resourcing age solutions exchange vmware disability race gender directory storage fundraising\n",
      "Topic 22: software experience systems technical test engineer support testing skills development knowledge windows analyst network design\n",
      "Topic 23: opportunity role looking team company experience career join excellent client salary successful manager working candidate\n",
      "Topic 24: maintenance equipment shift work machine working plant repair machinery repairs food skilled packaging fault planned\n",
      "Topic 25: data research analysis modelling analytical statistical events statistics using sciences gaming setter physical science plastic\n",
      "Topic 26: term long insurance contract fixed vacancy short state longer involved month day membership gym role\n",
      "Topic 27: design engineer engineering mechanical electrical technical experience systems project projects engineers gas work equipment safety\n",
      "Topic 28: fm cpcs wind cumbria agricultural tonne counsel farm dumper contracts glass paralegal turbine telescopic installer\n",
      "Topic 29: employment agency acting vacancy relation equal employer opportunity brown eden recruitment business equality housing cv\n",
      "Topic 30: manufacturing quality production supply employment recruitment experience job hays engineering permanent company temporary supplier accept\n",
      "Topic 31: ll digital media mobile creative social college content technology help world designer big delivering apply\n",
      "Topic 32: technician vehicle automotive licence driving service hgv retailer shop card vehicles workshop main technicians dealer\n",
      "Topic 33: nurse clinical medical experience hospital patients healthcare private team dental uk theatre nhs practice patient\n",
      "Topic 34: manager assistant retail www posted originally com job service great restaurant food customer hospitality high\n",
      "Topic 35: care support worker healthcare pay training workers community work rates job flexible experience provide offer\n",
      "Topic 36: bidi fontfamily fareast themefont minorlatin engb scientist calibri arsa enus hansi flooring asciithemefont selecture artworker\n",
      "Topic 37: ensure support service required provide procedures information team work customer line requirements maintain job appropriate\n",
      "Topic 38: cv public sector glasgow url posts number pvg sports employed details quote cscs extension assignments\n",
      "Topic 39: customer skills service experience work working hours excellent good duties office role required team customers\n",
      "Topic 40: analytics search pensions southampton sussex seo mi ppc brighton somerset wiltshire bank portsmouth salisbury andover\n",
      "Topic 41: legal property estate experience debt secretary buyer working negotiator properties agent lettings permission applicants premium\n",
      "Topic 42: developer net development web sql experience skills software server java design team asp solutions work\n",
      "Topic 43: work want best just great love people job look make clear working new day client\n",
      "Topic 44: school 2013 teacher teaching education january closing teachers primary year students schools post learning applications\n",
      "Topic 45: scheme people pension benefits training days holiday free uk life development time programme paid opportunities\n",
      "Topic 46: home nursing nurse care manager rgn registered elderly rmn experience staff working general deputy dementia\n",
      "Topic 47: care staff service home manager health people team needs ensure training standards support quality residents\n",
      "Topic 48: travel graduate manchester pa jobs university associate ireland greater scotland edinburgh rec northern facebook degree\n",
      "Topic 49: administrative clients claims maintain good experience able staff client administration policy stores care professional filing\n"
     ]
    }
   ],
   "source": [
    "topic_word = model.components_\n",
    "n_top_words = 15\n",
    "\n",
    "for i, topic_dist in enumerate(topic_word):\n",
    "  topic_words = np.array(vocab)[np.argsort(topic_dist)][:-(n_top_words+1):-1]\n",
    "  print('Topic {}: {}'.format(i, ' '.join(topic_words)))"
   ]
  },
  {
   "cell_type": "code",
   "execution_count": 28,
   "metadata": {
    "collapsed": false
   },
   "outputs": [],
   "source": [
    "# This is, our 50 dimensional representation of the original data.\n",
    "\n",
    "# NOTE: For comparison purposes, I have not re-run this since I trained using batch learning.\n",
    "\n",
    "df = pandas.DataFrame(doc_topic)\n",
    "df.to_csv('data/%s' % OUTPUT_FILE, index=False)"
   ]
  },
  {
   "cell_type": "code",
   "execution_count": null,
   "metadata": {
    "collapsed": true
   },
   "outputs": [],
   "source": [
    "# OUTPUT_FILE = '%s_bow.csv' % INPUT_FILE.split(\".\")[0]\n",
    "\n",
    "# X, vocab = preprocess_text_data.get_lda_training_data(\n",
    "#     INPUT_FILE, 'FullDescriptionWithTitle', 3)\n",
    "\n",
    "# model = sklearn.feature_extraction.text.CountVectorizer(\n",
    "#         stop_words='english', min_df=MIN_WORD_FREQUENCY, decode_error='ignore', n_jobs=-1)\n",
    "#model.fit(X)  # model.fit_transform(X) is also available"
   ]
  }
 ],
 "metadata": {
  "kernelspec": {
   "display_name": "Python 3",
   "language": "python",
   "name": "python3"
  },
  "language_info": {
   "codemirror_mode": {
    "name": "ipython",
    "version": 3
   },
   "file_extension": ".py",
   "mimetype": "text/x-python",
   "name": "python",
   "nbconvert_exporter": "python",
   "pygments_lexer": "ipython3",
   "version": "3.5.1"
  }
 },
 "nbformat": 4,
 "nbformat_minor": 0
}
