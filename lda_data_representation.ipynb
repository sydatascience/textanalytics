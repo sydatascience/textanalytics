{
 "cells": [
  {
   "cell_type": "code",
   "execution_count": 1,
   "metadata": {
    "collapsed": false
   },
   "outputs": [
    {
     "name": "stdout",
     "output_type": "stream",
     "text": [
      "Done\n"
     ]
    }
   ],
   "source": [
    "# Using LDA package\n",
    "# https://pypi.python.org/pypi/lda\n",
    "\n",
    "import numpy as np\n",
    "import pandas\n",
    "import preprocess_text_data\n",
    "import sklearn.decomposition\n",
    "\n",
    "print(\"Done\")"
   ]
  },
  {
   "cell_type": "code",
   "execution_count": 2,
   "metadata": {
    "collapsed": false
   },
   "outputs": [
    {
     "ename": "KeyError",
     "evalue": "'CompleteJobListing'",
     "output_type": "error",
     "traceback": [
      "\u001b[0;31m---------------------------------------------------------------------------\u001b[0m",
      "\u001b[0;31mKeyError\u001b[0m                                  Traceback (most recent call last)",
      "\u001b[0;32m<ipython-input-2-2af01485b4db>\u001b[0m in \u001b[0;36m<module>\u001b[0;34m()\u001b[0m\n\u001b[1;32m      3\u001b[0m \u001b[0;34m\u001b[0m\u001b[0m\n\u001b[1;32m      4\u001b[0m X, vocab = preprocess_text_data.get_lda_training_data(\n\u001b[0;32m----> 5\u001b[0;31m     INPUT_FILE, 'CompleteJobListing', 3)\n\u001b[0m",
      "\u001b[0;32m/Users/rcreagh/textanalytics/preprocess_text_data.py\u001b[0m in \u001b[0;36mget_lda_training_data\u001b[0;34m(file_name, column_name, min_word_frequency)\u001b[0m\n\u001b[1;32m     23\u001b[0m   \"\"\"\n\u001b[1;32m     24\u001b[0m   \u001b[0mdata\u001b[0m \u001b[0;34m=\u001b[0m \u001b[0mget_data\u001b[0m\u001b[0;34m(\u001b[0m\u001b[0mfile_name\u001b[0m\u001b[0;34m)\u001b[0m\u001b[0;34m\u001b[0m\u001b[0m\n\u001b[0;32m---> 25\u001b[0;31m   \u001b[0mcolumn\u001b[0m \u001b[0;34m=\u001b[0m \u001b[0mdata\u001b[0m\u001b[0;34m[\u001b[0m\u001b[0mcolumn_name\u001b[0m\u001b[0;34m]\u001b[0m\u001b[0;34m\u001b[0m\u001b[0m\n\u001b[0m\u001b[1;32m     26\u001b[0m \u001b[0;34m\u001b[0m\u001b[0m\n\u001b[1;32m     27\u001b[0m   count_vect = CountVectorizer(\n",
      "\u001b[0;32m/Library/Frameworks/Python.framework/Versions/3.5/lib/python3.5/site-packages/pandas/core/frame.py\u001b[0m in \u001b[0;36m__getitem__\u001b[0;34m(self, key)\u001b[0m\n\u001b[1;32m   1967\u001b[0m             \u001b[0;32mreturn\u001b[0m \u001b[0mself\u001b[0m\u001b[0;34m.\u001b[0m\u001b[0m_getitem_multilevel\u001b[0m\u001b[0;34m(\u001b[0m\u001b[0mkey\u001b[0m\u001b[0;34m)\u001b[0m\u001b[0;34m\u001b[0m\u001b[0m\n\u001b[1;32m   1968\u001b[0m         \u001b[0;32melse\u001b[0m\u001b[0;34m:\u001b[0m\u001b[0;34m\u001b[0m\u001b[0m\n\u001b[0;32m-> 1969\u001b[0;31m             \u001b[0;32mreturn\u001b[0m \u001b[0mself\u001b[0m\u001b[0;34m.\u001b[0m\u001b[0m_getitem_column\u001b[0m\u001b[0;34m(\u001b[0m\u001b[0mkey\u001b[0m\u001b[0;34m)\u001b[0m\u001b[0;34m\u001b[0m\u001b[0m\n\u001b[0m\u001b[1;32m   1970\u001b[0m \u001b[0;34m\u001b[0m\u001b[0m\n\u001b[1;32m   1971\u001b[0m     \u001b[0;32mdef\u001b[0m \u001b[0m_getitem_column\u001b[0m\u001b[0;34m(\u001b[0m\u001b[0mself\u001b[0m\u001b[0;34m,\u001b[0m \u001b[0mkey\u001b[0m\u001b[0;34m)\u001b[0m\u001b[0;34m:\u001b[0m\u001b[0;34m\u001b[0m\u001b[0m\n",
      "\u001b[0;32m/Library/Frameworks/Python.framework/Versions/3.5/lib/python3.5/site-packages/pandas/core/frame.py\u001b[0m in \u001b[0;36m_getitem_column\u001b[0;34m(self, key)\u001b[0m\n\u001b[1;32m   1974\u001b[0m         \u001b[0;31m# get column\u001b[0m\u001b[0;34m\u001b[0m\u001b[0;34m\u001b[0m\u001b[0m\n\u001b[1;32m   1975\u001b[0m         \u001b[0;32mif\u001b[0m \u001b[0mself\u001b[0m\u001b[0;34m.\u001b[0m\u001b[0mcolumns\u001b[0m\u001b[0;34m.\u001b[0m\u001b[0mis_unique\u001b[0m\u001b[0;34m:\u001b[0m\u001b[0;34m\u001b[0m\u001b[0m\n\u001b[0;32m-> 1976\u001b[0;31m             \u001b[0;32mreturn\u001b[0m \u001b[0mself\u001b[0m\u001b[0;34m.\u001b[0m\u001b[0m_get_item_cache\u001b[0m\u001b[0;34m(\u001b[0m\u001b[0mkey\u001b[0m\u001b[0;34m)\u001b[0m\u001b[0;34m\u001b[0m\u001b[0m\n\u001b[0m\u001b[1;32m   1977\u001b[0m \u001b[0;34m\u001b[0m\u001b[0m\n\u001b[1;32m   1978\u001b[0m         \u001b[0;31m# duplicate columns & possible reduce dimensionality\u001b[0m\u001b[0;34m\u001b[0m\u001b[0;34m\u001b[0m\u001b[0m\n",
      "\u001b[0;32m/Library/Frameworks/Python.framework/Versions/3.5/lib/python3.5/site-packages/pandas/core/generic.py\u001b[0m in \u001b[0;36m_get_item_cache\u001b[0;34m(self, item)\u001b[0m\n\u001b[1;32m   1089\u001b[0m         \u001b[0mres\u001b[0m \u001b[0;34m=\u001b[0m \u001b[0mcache\u001b[0m\u001b[0;34m.\u001b[0m\u001b[0mget\u001b[0m\u001b[0;34m(\u001b[0m\u001b[0mitem\u001b[0m\u001b[0;34m)\u001b[0m\u001b[0;34m\u001b[0m\u001b[0m\n\u001b[1;32m   1090\u001b[0m         \u001b[0;32mif\u001b[0m \u001b[0mres\u001b[0m \u001b[0;32mis\u001b[0m \u001b[0;32mNone\u001b[0m\u001b[0;34m:\u001b[0m\u001b[0;34m\u001b[0m\u001b[0m\n\u001b[0;32m-> 1091\u001b[0;31m             \u001b[0mvalues\u001b[0m \u001b[0;34m=\u001b[0m \u001b[0mself\u001b[0m\u001b[0;34m.\u001b[0m\u001b[0m_data\u001b[0m\u001b[0;34m.\u001b[0m\u001b[0mget\u001b[0m\u001b[0;34m(\u001b[0m\u001b[0mitem\u001b[0m\u001b[0;34m)\u001b[0m\u001b[0;34m\u001b[0m\u001b[0m\n\u001b[0m\u001b[1;32m   1092\u001b[0m             \u001b[0mres\u001b[0m \u001b[0;34m=\u001b[0m \u001b[0mself\u001b[0m\u001b[0;34m.\u001b[0m\u001b[0m_box_item_values\u001b[0m\u001b[0;34m(\u001b[0m\u001b[0mitem\u001b[0m\u001b[0;34m,\u001b[0m \u001b[0mvalues\u001b[0m\u001b[0;34m)\u001b[0m\u001b[0;34m\u001b[0m\u001b[0m\n\u001b[1;32m   1093\u001b[0m             \u001b[0mcache\u001b[0m\u001b[0;34m[\u001b[0m\u001b[0mitem\u001b[0m\u001b[0;34m]\u001b[0m \u001b[0;34m=\u001b[0m \u001b[0mres\u001b[0m\u001b[0;34m\u001b[0m\u001b[0m\n",
      "\u001b[0;32m/Library/Frameworks/Python.framework/Versions/3.5/lib/python3.5/site-packages/pandas/core/internals.py\u001b[0m in \u001b[0;36mget\u001b[0;34m(self, item, fastpath)\u001b[0m\n\u001b[1;32m   3209\u001b[0m \u001b[0;34m\u001b[0m\u001b[0m\n\u001b[1;32m   3210\u001b[0m             \u001b[0;32mif\u001b[0m \u001b[0;32mnot\u001b[0m \u001b[0misnull\u001b[0m\u001b[0;34m(\u001b[0m\u001b[0mitem\u001b[0m\u001b[0;34m)\u001b[0m\u001b[0;34m:\u001b[0m\u001b[0;34m\u001b[0m\u001b[0m\n\u001b[0;32m-> 3211\u001b[0;31m                 \u001b[0mloc\u001b[0m \u001b[0;34m=\u001b[0m \u001b[0mself\u001b[0m\u001b[0;34m.\u001b[0m\u001b[0mitems\u001b[0m\u001b[0;34m.\u001b[0m\u001b[0mget_loc\u001b[0m\u001b[0;34m(\u001b[0m\u001b[0mitem\u001b[0m\u001b[0;34m)\u001b[0m\u001b[0;34m\u001b[0m\u001b[0m\n\u001b[0m\u001b[1;32m   3212\u001b[0m             \u001b[0;32melse\u001b[0m\u001b[0;34m:\u001b[0m\u001b[0;34m\u001b[0m\u001b[0m\n\u001b[1;32m   3213\u001b[0m                 \u001b[0mindexer\u001b[0m \u001b[0;34m=\u001b[0m \u001b[0mnp\u001b[0m\u001b[0;34m.\u001b[0m\u001b[0marange\u001b[0m\u001b[0;34m(\u001b[0m\u001b[0mlen\u001b[0m\u001b[0;34m(\u001b[0m\u001b[0mself\u001b[0m\u001b[0;34m.\u001b[0m\u001b[0mitems\u001b[0m\u001b[0;34m)\u001b[0m\u001b[0;34m)\u001b[0m\u001b[0;34m[\u001b[0m\u001b[0misnull\u001b[0m\u001b[0;34m(\u001b[0m\u001b[0mself\u001b[0m\u001b[0;34m.\u001b[0m\u001b[0mitems\u001b[0m\u001b[0;34m)\u001b[0m\u001b[0;34m]\u001b[0m\u001b[0;34m\u001b[0m\u001b[0m\n",
      "\u001b[0;32m/Library/Frameworks/Python.framework/Versions/3.5/lib/python3.5/site-packages/pandas/core/index.py\u001b[0m in \u001b[0;36mget_loc\u001b[0;34m(self, key, method, tolerance)\u001b[0m\n\u001b[1;32m   1757\u001b[0m                                  'backfill or nearest lookups')\n\u001b[1;32m   1758\u001b[0m             \u001b[0mkey\u001b[0m \u001b[0;34m=\u001b[0m \u001b[0m_values_from_object\u001b[0m\u001b[0;34m(\u001b[0m\u001b[0mkey\u001b[0m\u001b[0;34m)\u001b[0m\u001b[0;34m\u001b[0m\u001b[0m\n\u001b[0;32m-> 1759\u001b[0;31m             \u001b[0;32mreturn\u001b[0m \u001b[0mself\u001b[0m\u001b[0;34m.\u001b[0m\u001b[0m_engine\u001b[0m\u001b[0;34m.\u001b[0m\u001b[0mget_loc\u001b[0m\u001b[0;34m(\u001b[0m\u001b[0mkey\u001b[0m\u001b[0;34m)\u001b[0m\u001b[0;34m\u001b[0m\u001b[0m\n\u001b[0m\u001b[1;32m   1760\u001b[0m \u001b[0;34m\u001b[0m\u001b[0m\n\u001b[1;32m   1761\u001b[0m         indexer = self.get_indexer([key], method=method,\n",
      "\u001b[0;32mpandas/index.pyx\u001b[0m in \u001b[0;36mpandas.index.IndexEngine.get_loc (pandas/index.c:3979)\u001b[0;34m()\u001b[0m\n",
      "\u001b[0;32mpandas/index.pyx\u001b[0m in \u001b[0;36mpandas.index.IndexEngine.get_loc (pandas/index.c:3843)\u001b[0;34m()\u001b[0m\n",
      "\u001b[0;32mpandas/hashtable.pyx\u001b[0m in \u001b[0;36mpandas.hashtable.PyObjectHashTable.get_item (pandas/hashtable.c:12265)\u001b[0;34m()\u001b[0m\n",
      "\u001b[0;32mpandas/hashtable.pyx\u001b[0m in \u001b[0;36mpandas.hashtable.PyObjectHashTable.get_item (pandas/hashtable.c:12216)\u001b[0;34m()\u001b[0m\n",
      "\u001b[0;31mKeyError\u001b[0m: 'CompleteJobListing'"
     ]
    }
   ],
   "source": [
    "INPUT_FILE = 'train.csv'\n",
    "OUTPUT_FILE = '%s_lda_50.csv' % INPUT_FILE.split(\".\")[0]\n",
    "\n",
    "X, vocab = preprocess_text_data.get_lda_training_data(\n",
    "    INPUT_FILE, 'CompleteJobListing', 3)"
   ]
  },
  {
   "cell_type": "code",
   "execution_count": 10,
   "metadata": {
    "collapsed": false
   },
   "outputs": [
    {
     "ename": "AttributeError",
     "evalue": "'LatentDirichletAllocation' object has no attribute 'topic_word_'",
     "output_type": "error",
     "traceback": [
      "\u001b[0;31m---------------------------------------------------------------------------\u001b[0m",
      "\u001b[0;31mAttributeError\u001b[0m                            Traceback (most recent call last)",
      "\u001b[0;32m<ipython-input-10-5e1d8a3c8286>\u001b[0m in \u001b[0;36m<module>\u001b[0;34m()\u001b[0m\n\u001b[1;32m      3\u001b[0m     batch_size=256, n_jobs=-1)\n\u001b[1;32m      4\u001b[0m \u001b[0mmodel\u001b[0m\u001b[0;34m.\u001b[0m\u001b[0mfit\u001b[0m\u001b[0;34m(\u001b[0m\u001b[0mX\u001b[0m\u001b[0;34m)\u001b[0m  \u001b[0;31m# model.fit_transform(X) is also available\u001b[0m\u001b[0;34m\u001b[0m\u001b[0m\n\u001b[0;32m----> 5\u001b[0;31m \u001b[0mtopic_word\u001b[0m \u001b[0;34m=\u001b[0m \u001b[0mmodel\u001b[0m\u001b[0;34m.\u001b[0m\u001b[0mtopic_word_\u001b[0m  \u001b[0;31m# model.components_ also works\u001b[0m\u001b[0;34m\u001b[0m\u001b[0m\n\u001b[0m\u001b[1;32m      6\u001b[0m \u001b[0mn_top_words\u001b[0m \u001b[0;34m=\u001b[0m \u001b[0;36m15\u001b[0m\u001b[0;34m\u001b[0m\u001b[0m\n\u001b[1;32m      7\u001b[0m \u001b[0;34m\u001b[0m\u001b[0m\n",
      "\u001b[0;31mAttributeError\u001b[0m: 'LatentDirichletAllocation' object has no attribute 'topic_word_'"
     ]
    }
   ],
   "source": [
    "model = sklearn.decomposition.LatentDirichletAllocation(\n",
    "    n_topics=50, max_iter=50, random_state=1, learning_method='online',\n",
    "    batch_size=256, n_jobs=-1)\n",
    "model.fit(X)  # model.fit_transform(X) is also available"
   ]
  },
  {
   "cell_type": "markdown",
   "metadata": {},
   "source": [
    "### Interesting note: Mini-Batch learning model with far fewer max_its takes far longer to train than learning without this."
   ]
  },
  {
   "cell_type": "code",
   "execution_count": 11,
   "metadata": {
    "collapsed": false
   },
   "outputs": [
    {
     "name": "stdout",
     "output_type": "stream",
     "text": [
      "Topic 0: advisor centre sales birmingham work potential commission self outbound uncapped training advisors driven environment earning\n",
      "Topic 1: children social young work officer protection worker child qualified team placement council safeguarding committed experience\n",
      "Topic 2: branch marine offshore garden naval subsea hall sutton controls onshore perth harrow salon macclesfield office\n",
      "Topic 3: allegis derby pharmacy labourer flame biology adam la area bathrooms consent carter pharmacist shopper aplitrak\n",
      "Topic 4: nbsp banking bull ndash rsquo taylor passenger aston meridian sabbatical elevation cc backoffice postings redis\n",
      "Topic 5: sap warehouse licensing fraud richard flt middot cognos nunit airline unloading avaya fork rhinomocks bacs\n",
      "Topic 6: carvery 149 hmrc toby protecting harvester nissan childhood vw rover vauxhall mazda aarca policing orgtel\n",
      "Topic 7: security bristol clearance defence sc bath cleared government ce vetting mod programme juniper mcs dv\n",
      "Topic 8: asbestos surveyor laboratory berkshire select surveyors lab contractors refurbishment endeavour surveying samples surveys consultants consultancy\n",
      "Topic 9: chef food hotel kitchen partie restaurant head sous work live high role pub fresh uk\n",
      "Topic 10: electronics electronic nursery cambridge design mathematics revenue fpga suitability phd chief streams cluster pcb level\n",
      "Topic 11: health post work centre occupational february locum mental gp uk assessment practitioner learners practice qualification\n",
      "Topic 12: work experience apply working required role cv position applicants candidates able hours job uk client\n",
      "Topic 13: financial finance accounts accountant reporting qualified business accounting credit audit management group role analyst controller\n",
      "Topic 14: store coach customer coaching optometrist nebosh cdm showroom upbeat optometry barring courier heathrow addresses ems\n",
      "Topic 15: commercial construction water contracts civil energy works environmental company building amp services clients contractor uk\n",
      "Topic 16: website www visit com http shifts work medical choose uk available apply pay chase alternatively\n",
      "Topic 17: firm tax corporate clients practice returns academy mark personal corecruitment qualified portfolio called advisory companies\n",
      "Topic 18: management experience business skills project team manager role ability work development working key client projects\n",
      "Topic 19: sales business account new executive clients customer client products company product customers manager market development\n",
      "Topic 20: recruitment consultant uk jobs days vacancies application contact motor car office business basic specialist candidates\n",
      "Topic 21: support infrastructure services microsoft resourcing age solutions exchange vmware disability race gender directory storage fundraising\n",
      "Topic 22: software experience systems technical test engineer support testing skills development knowledge windows analyst network design\n",
      "Topic 23: opportunity role looking team company experience career join excellent client salary successful manager working candidate\n",
      "Topic 24: maintenance equipment shift work machine working plant repair machinery repairs food skilled packaging fault planned\n",
      "Topic 25: data research analysis modelling analytical statistical events statistics using sciences gaming setter physical science plastic\n",
      "Topic 26: term long insurance contract fixed vacancy short state longer involved month day membership gym role\n",
      "Topic 27: design engineer engineering mechanical electrical technical experience systems project projects engineers gas work equipment safety\n",
      "Topic 28: fm cpcs wind cumbria agricultural tonne counsel farm dumper contracts glass paralegal turbine telescopic installer\n",
      "Topic 29: employment agency acting vacancy relation equal employer opportunity brown eden recruitment business equality housing cv\n",
      "Topic 30: manufacturing quality production supply employment recruitment experience job hays engineering permanent company temporary supplier accept\n",
      "Topic 31: ll digital media mobile creative social college content technology help world designer big delivering apply\n",
      "Topic 32: technician vehicle automotive licence driving service hgv retailer shop card vehicles workshop main technicians dealer\n",
      "Topic 33: nurse clinical medical experience hospital patients healthcare private team dental uk theatre nhs practice patient\n",
      "Topic 34: manager assistant retail www posted originally com job service great restaurant food customer hospitality high\n",
      "Topic 35: care support worker healthcare pay training workers community work rates job flexible experience provide offer\n",
      "Topic 36: bidi fontfamily fareast themefont minorlatin engb scientist calibri arsa enus hansi flooring asciithemefont selecture artworker\n",
      "Topic 37: ensure support service required provide procedures information team work customer line requirements maintain job appropriate\n",
      "Topic 38: cv public sector glasgow url posts number pvg sports employed details quote cscs extension assignments\n",
      "Topic 39: customer skills service experience work working hours excellent good duties office role required team customers\n",
      "Topic 40: analytics search pensions southampton sussex seo mi ppc brighton somerset wiltshire bank portsmouth salisbury andover\n",
      "Topic 41: legal property estate experience debt secretary buyer working negotiator properties agent lettings permission applicants premium\n",
      "Topic 42: developer net development web sql experience skills software server java design team asp solutions work\n",
      "Topic 43: work want best just great love people job look make clear working new day client\n",
      "Topic 44: school 2013 teacher teaching education january closing teachers primary year students schools post learning applications\n",
      "Topic 45: scheme people pension benefits training days holiday free uk life development time programme paid opportunities\n",
      "Topic 46: home nursing nurse care manager rgn registered elderly rmn experience staff working general deputy dementia\n",
      "Topic 47: care staff service home manager health people team needs ensure training standards support quality residents\n",
      "Topic 48: travel graduate manchester pa jobs university associate ireland greater scotland edinburgh rec northern facebook degree\n",
      "Topic 49: administrative clients claims maintain good experience able staff client administration policy stores care professional filing\n"
     ]
    }
   ],
   "source": [
    "topic_word = model.components_\n",
    "n_top_words = 15\n",
    "\n",
    "for i, topic_dist in enumerate(topic_word):\n",
    "  topic_words = np.array(vocab)[np.argsort(topic_dist)][:-(n_top_words+1):-1]\n",
    "  print('Topic {}: {}'.format(i, ' '.join(topic_words)))"
   ]
  },
  {
   "cell_type": "code",
   "execution_count": 28,
   "metadata": {
    "collapsed": false
   },
   "outputs": [],
   "source": [
    "# This is, our 50 dimensional representation of the original data.\n",
    "\n",
    "# NOTE: For comparison purposes, I have not re-run this since I trained using batch learning.\n",
    "\n",
    "df = pandas.DataFrame(doc_topic)\n",
    "df.to_csv('data/%s' % OUTPUT_FILE, index=False)"
   ]
  },
  {
   "cell_type": "code",
   "execution_count": null,
   "metadata": {
    "collapsed": true
   },
   "outputs": [],
   "source": [
    "# OUTPUT_FILE = '%s_bow.csv' % INPUT_FILE.split(\".\")[0]\n",
    "\n",
    "# X, vocab = preprocess_text_data.get_lda_training_data(\n",
    "#     INPUT_FILE, 'FullDescriptionWithTitle', 3)\n",
    "\n",
    "# model = sklearn.feature_extraction.text.CountVectorizer(\n",
    "#         stop_words='english', min_df=MIN_WORD_FREQUENCY, decode_error='ignore', n_jobs=-1)\n",
    "#model.fit(X)  # model.fit_transform(X) is also available"
   ]
  }
 ],
 "metadata": {
  "kernelspec": {
   "display_name": "Python 3",
   "language": "python",
   "name": "python3"
  },
  "language_info": {
   "codemirror_mode": {
    "name": "ipython",
    "version": 3
   },
   "file_extension": ".py",
   "mimetype": "text/x-python",
   "name": "python",
   "nbconvert_exporter": "python",
   "pygments_lexer": "ipython3",
   "version": "3.5.1"
  }
 },
 "nbformat": 4,
 "nbformat_minor": 0
}
