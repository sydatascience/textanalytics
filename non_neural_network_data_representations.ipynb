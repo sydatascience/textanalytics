{
 "cells": [
  {
   "cell_type": "code",
   "execution_count": 6,
   "metadata": {
    "collapsed": false
   },
   "outputs": [
    {
     "name": "stdout",
     "output_type": "stream",
     "text": [
      "Done\n"
     ]
    }
   ],
   "source": [
    "# Using LDA package\n",
    "# https://pypi.python.org/pypi/lda\n",
    "\n",
    "import lda\n",
    "import numpy as np\n",
    "import pandas\n",
    "import preprocess_text_data\n",
    "\n",
    "print(\"Done\")"
   ]
  },
  {
   "cell_type": "code",
   "execution_count": 7,
   "metadata": {
    "collapsed": false
   },
   "outputs": [],
   "source": [
    "INPUT_FILE = 'train_large.csv'\n",
    "OUTPUT_FILE = '%s_lda_50.csv' % INPUT_FILE.split(\".\")[0]\n",
    "\n",
    "X, vocab = preprocess_text_data.get_lda_training_data(\n",
    "    INPUT_FILE, 'FullDescriptionWithTitle', 3)"
   ]
  },
  {
   "cell_type": "code",
   "execution_count": 9,
   "metadata": {
    "collapsed": false
   },
   "outputs": [
    {
     "name": "stderr",
     "output_type": "stream",
     "text": [
      "INFO:lda:n_documents: 20000\n",
      "INFO:lda:vocab_size: 17712\n",
      "INFO:lda:n_words: 2713800\n",
      "INFO:lda:n_topics: 50\n",
      "INFO:lda:n_iter: 500\n",
      "INFO:lda:<0> log likelihood: -34457334\n",
      "INFO:lda:<10> log likelihood: -24453947\n",
      "INFO:lda:<20> log likelihood: -22810408\n",
      "INFO:lda:<30> log likelihood: -22314548\n",
      "INFO:lda:<40> log likelihood: -22071071\n",
      "INFO:lda:<50> log likelihood: -21922355\n",
      "INFO:lda:<60> log likelihood: -21833764\n",
      "INFO:lda:<70> log likelihood: -21763753\n",
      "INFO:lda:<80> log likelihood: -21713649\n",
      "INFO:lda:<90> log likelihood: -21674400\n",
      "INFO:lda:<100> log likelihood: -21648125\n",
      "INFO:lda:<110> log likelihood: -21626726\n",
      "INFO:lda:<120> log likelihood: -21609308\n",
      "INFO:lda:<130> log likelihood: -21594095\n",
      "INFO:lda:<140> log likelihood: -21578952\n",
      "INFO:lda:<150> log likelihood: -21568639\n",
      "INFO:lda:<160> log likelihood: -21554459\n",
      "INFO:lda:<170> log likelihood: -21546301\n",
      "INFO:lda:<180> log likelihood: -21535237\n",
      "INFO:lda:<190> log likelihood: -21518448\n",
      "INFO:lda:<200> log likelihood: -21508758\n",
      "INFO:lda:<210> log likelihood: -21499802\n",
      "INFO:lda:<220> log likelihood: -21493049\n",
      "INFO:lda:<230> log likelihood: -21486824\n",
      "INFO:lda:<240> log likelihood: -21480926\n",
      "INFO:lda:<250> log likelihood: -21474957\n",
      "INFO:lda:<260> log likelihood: -21475222\n",
      "INFO:lda:<270> log likelihood: -21470630\n",
      "INFO:lda:<280> log likelihood: -21462428\n",
      "INFO:lda:<290> log likelihood: -21458254\n",
      "INFO:lda:<300> log likelihood: -21461635\n",
      "INFO:lda:<310> log likelihood: -21451397\n",
      "INFO:lda:<320> log likelihood: -21450237\n",
      "INFO:lda:<330> log likelihood: -21447496\n",
      "INFO:lda:<340> log likelihood: -21444310\n",
      "INFO:lda:<350> log likelihood: -21445232\n",
      "INFO:lda:<360> log likelihood: -21443130\n",
      "INFO:lda:<370> log likelihood: -21439358\n",
      "INFO:lda:<380> log likelihood: -21437393\n",
      "INFO:lda:<390> log likelihood: -21435632\n",
      "INFO:lda:<400> log likelihood: -21435226\n",
      "INFO:lda:<410> log likelihood: -21434758\n",
      "INFO:lda:<420> log likelihood: -21431976\n",
      "INFO:lda:<430> log likelihood: -21427454\n",
      "INFO:lda:<440> log likelihood: -21431649\n",
      "INFO:lda:<450> log likelihood: -21426417\n",
      "INFO:lda:<460> log likelihood: -21422808\n",
      "INFO:lda:<470> log likelihood: -21422158\n",
      "INFO:lda:<480> log likelihood: -21415024\n",
      "INFO:lda:<490> log likelihood: -21421617\n",
      "INFO:lda:<499> log likelihood: -21420716\n"
     ]
    },
    {
     "name": "stdout",
     "output_type": "stream",
     "text": [
      "Topic 0: cv role experience vacancy reference public sector work qualifications covering longer short email working term\n",
      "Topic 1: nurse experience clinical health hospital patients team care practice healthcare working staff theatre patient dental\n",
      "Topic 2: nurse nursing care registered rgn home staff elderly general nurses rmn experience nmc work qualified\n",
      "Topic 3: management team business ensure development support performance manager key manage hr develop delivery ensuring effective\n",
      "Topic 4: travel graduate consultant business london training company world international career industry experience clients year global\n",
      "Topic 5: sales manager business account field executive managers company role services office recruitment area south uk\n",
      "Topic 6: chef hotel partie kitchen food work restaurant head sous position live working role high uk\n",
      "Topic 7: media digital agency account client clients creative experience london work senior team communications director events\n",
      "Topic 8: technical business experience solutions systems requirements software design development project technology knowledge work implementation solution\n",
      "Topic 9: hours work working experience monday friday week shift required time looking cnc days hour role\n",
      "Topic 10: data analyst business analysis experience oracle skills sql reporting senior database risk knowledge sas management\n",
      "Topic 11: sales business new manager account client development clients relationships company existing market opportunities executive role\n",
      "Topic 12: net developer sql development software asp server web experience skills sharepoint microsoft team client vb\n",
      "Topic 13: vacancy relation acting employment brown eden agency opportunity live employer equal care working work workplace\n",
      "Topic 14: school teacher teaching education teachers primary looking schools work year children nursery pupils excellent learning\n",
      "Topic 15: quality manufacturing production process product engineering supply supplier improvement products suppliers technical ensure company requirements\n",
      "Topic 16: marketing online manager experience brand digital new product campaigns strategy web search content business campaign\n",
      "Topic 17: experience compliance safety services uk management risk knowledge health work clients environmental including projects regulatory\n",
      "Topic 18: maintenance engineer electrical equipment engineering mechanical experience gas water company systems plant role service industry\n",
      "Topic 19: developer development experience software web java test testing skills php team knowledge working agile javascript\n",
      "Topic 20: recruitment consultant working business days application professional career basic branch consultants uk senior client contact\n",
      "Topic 21: care residents home team staff needs people uk homes standards ensuring ensure responsible highest lives\n",
      "Topic 22: research university uk experience degree science post education date ac medical applications relevant associate apply\n",
      "Topic 23: customer service customers skills services excellent providing provide ensure telephone team support manner ability contact\n",
      "Topic 24: asbestos legal property clients experience estate successful claims management surveyor working company good firm future\n",
      "Topic 25: ll people work great make need help want team career like best just working new\n",
      "Topic 26: benefits salary pension scheme company nbsp days holiday package bonus including excellent plus annual competitive\n",
      "Topic 27: com www experience cv role uk visit job looking client send posted originally recruitment dynamics\n",
      "Topic 28: project manager management projects experience client delivery contract managing programme commercial manage senior role contracts\n",
      "Topic 29: work uk training healthcare experience pay opportunities free community rates excellent support service area apply\n",
      "Topic 30: support systems experience network infrastructure security technical windows engineer server skills knowledge line services microsoft\n",
      "Topic 31: financial finance business accountant management qualified reporting accounts group employment accounting role audit hays experience\n",
      "Topic 32: skills ability work experience excellent team good communication able working knowledge essential strong written environment\n",
      "Topic 33: office administrator administration duties team accounts support experience role assistant skills include information payroll processing\n",
      "Topic 34: design engineer engineering experience software mechanical systems development technical test engineers work electronics embedded products\n",
      "Topic 35: care support home people training provide worker work workers assistant personal required hours homes essential\n",
      "Topic 36: social support care service children work people team health experience learning worker working services young\n",
      "Topic 37: employment skills age business agency applications training disability equal recruitment role work resourcing race opportunities\n",
      "Topic 38: required work duties cleaning experience driving include licence site driver hours essential previous drivers apply\n",
      "Topic 39: 2013 date january application closing apply post information support hours charity applications week job february\n",
      "Topic 40: motor automotive trade sales manager technician car vehicle uk service executive main employment contact client\n",
      "Topic 41: role experience recruitment client cv apply candidates successful working contract employment application permanent candidate position\n",
      "Topic 42: financial insurance role investment business banking contact application successful commercial uk finance high strong management\n",
      "Topic 43: opportunity role team company looking career excellent client join working experience successful business candidate leading\n",
      "Topic 44: home manager care nursing rgn nurse deputy experience registered elderly management working looking role service\n",
      "Topic 45: manager assistant retail team store general service experience management looking great customer high food restaurant\n",
      "Topic 46: work apply pay locum shifts available able medical healthcare job uk experience nurse rec recruitment\n",
      "Topic 47: ensure required procedures staff maintain appropriate work safety assist training company duties health standards job\n",
      "Topic 48: speaking support english german experience language french client excellent fluent skills ireland belfast pa european\n",
      "Topic 49: sales company telesales customer looking executive training role work experience apply business client opportunity commission\n"
     ]
    }
   ],
   "source": [
    "model = lda.LDA(n_topics=50, n_iter=500, random_state=1)\n",
    "model.fit(X)  # model.fit_transform(X) is also available\n",
    "topic_word = model.topic_word_  # model.components_ also works\n",
    "n_top_words = 15\n",
    "\n",
    "for i, topic_dist in enumerate(topic_word):\n",
    "  topic_words = np.array(vocab)[np.argsort(topic_dist)][:-(n_top_words+1):-1]\n",
    "  print('Topic {}: {}'.format(i, ' '.join(topic_words)))"
   ]
  },
  {
   "cell_type": "code",
   "execution_count": 28,
   "metadata": {
    "collapsed": false
   },
   "outputs": [],
   "source": [
    "# This is, our 50 dimensional representation of the original data.\n",
    "df = pandas.DataFrame(doc_topic)\n",
    "df.to_csv('data/%s' % OUTPUT_FILE, index=False)\n"
   ]
  }
 ],
 "metadata": {
  "kernelspec": {
   "display_name": "Python 3",
   "language": "python",
   "name": "python3"
  },
  "language_info": {
   "codemirror_mode": {
    "name": "ipython",
    "version": 3
   },
   "file_extension": ".py",
   "mimetype": "text/x-python",
   "name": "python",
   "nbconvert_exporter": "python",
   "pygments_lexer": "ipython3",
   "version": "3.5.1"
  }
 },
 "nbformat": 4,
 "nbformat_minor": 0
}
