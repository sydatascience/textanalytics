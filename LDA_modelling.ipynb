{
 "cells": [
  {
   "cell_type": "code",
   "execution_count": 11,
   "metadata": {
    "collapsed": false
   },
   "outputs": [
    {
     "name": "stdout",
     "output_type": "stream",
     "text": [
      "Done\n"
     ]
    }
   ],
   "source": [
    "# Using LDA package\n",
    "# https://pypi.python.org/pypi/lda\n",
    "\n",
    "import numpy as np\n",
    "import lda\n",
    "import lda.datasets\n",
    "\n",
    "# This is a new library I started writing for use here amongst elsewhere.\n",
    "import preprocess_text_data\n",
    "\n",
    "print(\"Done\")"
   ]
  },
  {
   "cell_type": "code",
   "execution_count": 30,
   "metadata": {
    "collapsed": true
   },
   "outputs": [],
   "source": [
    "FILE = 'train_medium.csv'\n",
    "OUTPUT_FILE = 'train_medium_lda_50.csv'\n",
    "\n",
    "X, vocab = preprocess_text_data.get_lda_training_data(\n",
    "    FILE, 'FullDescriptionWithTitle', 30) #10"
   ]
  },
  {
   "cell_type": "code",
   "execution_count": 31,
   "metadata": {
    "collapsed": false
   },
   "outputs": [
    {
     "name": "stdout",
     "output_type": "stream",
     "text": [
      "15085\n",
      "(171386, 15085)\n"
     ]
    }
   ],
   "source": [
    "# Check the dimensions.\n",
    "print(len(vocab))\n",
    "print(X.shape)\n",
    "\n"
   ]
  },
  {
   "cell_type": "code",
   "execution_count": 32,
   "metadata": {
    "collapsed": false
   },
   "outputs": [
    {
     "name": "stdout",
     "output_type": "stream",
     "text": [
      "Topic 0: office support skills customer administrator role administration team duties service experience telephone client excellent required\n",
      "Topic 1: 2013 date post closing february application apply applications uk information job hours work week people\n",
      "Topic 2: product supply procurement chain manager products experience suppliers supplier management customer role logistics food purchasing\n",
      "Topic 3: research experience international medical german uk english french pharmaceutical speaking clinical global degree european company\n",
      "Topic 4: travel applications receive job page business role uk michael leading candidates required high contact advertised\n",
      "Topic 5: retail store manager brand sales high team fashion stores experience retailer assistant customer looking role\n",
      "Topic 6: data analyst business risk analysis nbsp experience skills management role analytical information senior credit sas\n",
      "Topic 7: engineer design software experience electronics systems development test embedded engineering electronic role position skills products\n",
      "Topic 8: west south east based commutable company role salary looking midlands location sussex hampshire surrey benefits\n",
      "Topic 9: web developer experience php design development mobile javascript html skills css designer team working work\n",
      "Topic 10: school teacher teaching year primary looking pupils outstanding english students london excellent role assistant work\n",
      "Topic 11: projects experience construction client project site building commercial contract work senior services manager contractor surveyor\n",
      "Topic 12: software experience development java test testing developer team skills agile working engineer applications knowledge systems\n",
      "Topic 13: sql experience business oracle data database dynamics microsoft sap consultant skills crm server sharepoint bi\n",
      "Topic 14: recruitment consultant clients business career candidates graduate company consultants training work client looking trainee uk\n",
      "Topic 15: support experience security technical systems network infrastructure windows engineer server line skills knowledge service services\n",
      "Topic 16: accounts credit payroll experience role ledger assistant payments purchase finance processing team control duties invoices\n",
      "Topic 17: employment recruitment agency business hays permanent temporary job uk specialist acts limited policy applying age\n",
      "Topic 18: net developer asp development sql server software web experience mvc skills vb team client agile\n",
      "Topic 19: care support social work people worker children experience service working services team training workers needs\n",
      "Topic 20: hours work required week working monday experience friday duties days time hour include start cleaning\n",
      "Topic 21: application cv role applications recruitment days apply candidates experience work vacancy employment note successful contact\n",
      "Topic 22: quality manufacturing production engineering experience cnc engineer company process role improvement working work automotive machine\n",
      "Topic 23: pension scheme benefits days holiday salary company health bonus package life free working training annual\n",
      "Topic 24: training experience asbestos health skills safety role environmental management work level qualifications water company qualification\n",
      "Topic 25: business development management key services develop team strategic strategy commercial deliver relationships support delivery performance\n",
      "Topic 26: education work teaching teachers schools teacher nursery supply experience children primary looking working qualified day\n",
      "Topic 27: ensure procedures required maintain safety appropriate ensuring company requirements standards work provide compliance assist quality\n",
      "Topic 28: marketing online experience manager media digital campaigns communications content events executive brand search seo social\n",
      "Topic 29: financial finance management accountant reporting qualified business role audit accounting accounts experience tax monthly senior\n",
      "Topic 30: chef hotel food restaurant head partie work kitchen sous experience uk high working live role\n",
      "Topic 31: www com posted originally jobseeking job totaljobs uk experience looking role client cv opportunity candidate\n",
      "Topic 32: technical business systems requirements support development solutions design process knowledge product processes provide management new\n",
      "Topic 33: opportunity role company career looking team join excellent successful working client candidate business exciting work\n",
      "Topic 34: sales business new executive manager account development company role client selling clients experience existing services\n",
      "Topic 35: project manager management projects experience delivery programme managing business client manage change planning skills role\n",
      "Topic 36: hr business role recruitment experience management support working employee organisation managers client manager team services\n",
      "Topic 37: ll manager assistant great food general restaurant people team career training make business passion work\n",
      "Topic 38: group financial investment banking london trading allegis data services bank companies client experience applicant company\n",
      "Topic 39: legal firm property client insurance clients experience commercial law estate team role claims work opportunity\n",
      "Topic 40: maintenance engineer electrical service equipment mechanical work systems experience company engineering plant role working field\n",
      "Topic 41: nurse care health healthcare experience work clinical nhs hospital medical patients uk working nurses team\n",
      "Topic 42: care home nursing nurse rgn manager staff registered experience elderly residents rmn working looking dementia\n",
      "Topic 43: skills ability work good experience excellent communication able team knowledge working strong written environment essential\n",
      "Topic 44: design engineering engineer mechanical experience technical electrical project gas oil projects systems engineers work energy\n",
      "Topic 45: customer sales service customers experience work centre people training looking advisor company business skills marketing\n",
      "Topic 46: motor trade sales manager automotive service vehicle car technician jobs uk advisor employment job main\n",
      "Topic 47: sales graduate company manager business recruitment executive uk managers account basic jobs role car area\n",
      "Topic 48: manager team management service customer experience managing ensure staff business manage operations role performance leader\n",
      "Topic 49: account agency media client digital clients role senior manager experience director creative marketing work team\n"
     ]
    }
   ],
   "source": [
    "#model = LatentDirichletAllocation(n_jobs=-1)\n",
    "\n",
    "model = lda.LDA(n_topics=50, n_iter=500, random_state=1)\n",
    "model.fit(X)  # model.fit_transform(X) is also available\n",
    "topic_word = model.topic_word_  # model.components_ also works\n",
    "n_top_words = 15\n",
    "\n",
    "for i, topic_dist in enumerate(topic_word):\n",
    "  topic_words = np.array(vocab)[np.argsort(topic_dist)][:-(n_top_words+1):-1]\n",
    "  print('Topic {}: {}'.format(i, ' '.join(topic_words)))"
   ]
  },
  {
   "cell_type": "code",
   "execution_count": 26,
   "metadata": {
    "collapsed": false
   },
   "outputs": [
    {
     "name": "stdout",
     "output_type": "stream",
     "text": [
      "Engineering Systems Analyst (top topic: 32)\n",
      "Engineering Systems Analyst / Mathematical Modeller (top topic: 43)\n",
      "Pioneer, Miser Engineering Systems Analyst (top topic: 27)\n",
      "Engineering Systems Analyst Water Industry (top topic: 19)\n",
      "Senior Subsea Pipeline Integrity Engineer (top topic: 27)\n",
      "RECRUITMENT CONSULTANT  CONSTRUCTION / TECHNICAL / TRADES LABOUR (top topic: 46)\n",
      "PROJECT ENGINEER, PHARMACEUTICAL (top topic: 27)\n",
      "Chef de Partie  Award Winning Restaurant  Excellent Tips (top topic: 16)\n",
      "Quality Engineer (top topic: 3)\n",
      "Principal Controls Engineer (top topic: 27)\n",
      "Chef de Partie  Award Winning Dining  Live In  Share of Tips (top topic: 16)\n",
      "Senior Fatigue and Damage Tolerance Engineer (top topic: 27)\n",
      "C I Design Engineer (top topic: 27)\n",
      "Lead Engineers (Stress) (top topic: 27)\n",
      "Relief Chef de Partie  Croydon, Surrey  Live in (top topic: 16)\n",
      "Senior Control and Instrumentation Engineer (top topic: 27)\n",
      "Control and Instrumentation Engineer (top topic: 27)\n",
      "Electrical / ICA Engineer (top topic: 27)\n",
      "CHEF DE PARTIE POSITION IN **** ROSETTE HOTEL NYORKS  ****k (top topic: 16)\n",
      "General Manager  Funky, Cool Restaurant Concept  London  ****k  (top topic: 36)\n",
      "Senior Website Designer (top topic: 38)\n",
      "Welwyn Chef de Partie does it get any better than this? **** (top topic: 16)\n",
      "Chef de Partie Sauce Award Winning Hertford **** (top topic: 16)\n",
      "Pastry Chef AL**** ****AA Rosette Restaurant (top topic: 16)\n",
      "QA Engineer (top topic: 19)\n",
      "Documentation Engineer (top topic: 27)\n",
      "Bilingual Customer Service Operator (top topic: 21)\n",
      "Customer Event Coordinator (German speaking) (top topic: 21)\n",
      "Senior Planner (top topic: 30)\n",
      "Bilingual Reservationist (Customer Service) (top topic: 21)\n",
      "Trampoline Coach  Bushey Grove Leisure Centre (top topic: 34)\n",
      "Self Employed Swimming Instructors (top topic: 26)\n",
      "Self Employed Sport Coaches (top topic: 22)\n",
      "Bar/Waiting Staff  The Cricketers, Sarratt (top topic: 12)\n",
      "Deputy Manager  Nevill Crest and Gun, Eridge Green (top topic: 12)\n",
      "Bar/Waiting Staff  The Refectory, Godalming (top topic: 12)\n",
      "Web Developer (top topic: 17)\n",
      "Software Engineer/Mathematical Modeller (top topic: 19)\n",
      "Mathematical Modeller (top topic: 32)\n",
      "Software Engineer / Algorithm Design / Mathematical Modeller (top topic: 19)\n",
      "Senior Mechanical Engineer Design and Substantiation (top topic: 27)\n",
      "Senior Mechanical Engineer Design and Substantiation (top topic: 27)\n",
      "User Experience Developer (top topic: 17)\n",
      "IT Telesales (top topic: 46)\n",
      "FIELD SALES ENGINEER / SALES ACCOUNT MANAGER  PLASTICS (top topic: 4)\n",
      "Sales Negotiator  Birmingham (top topic: 29)\n",
      "Senior **** IT Recruitment Consulltant (top topic: 46)\n",
      "Chef de Partie  Sutton Hall, Macclesfield (top topic: 44)\n",
      "Senior Manufacturing Engineer (top topic: 27)\n",
      "C / C++ SOFTWARE ENGINEERS (All levels) (top topic: 19)\n"
     ]
    }
   ],
   "source": [
    "import pandas\n",
    "\n",
    "#TODO (any) This should not be here :D.\n",
    "data  = pandas.read_csv('data/%s' % FILE)\n",
    "titles = data[\"Title\"]\n",
    "\n",
    "doc_topic = model.doc_topic_\n",
    "for i in range(50):  \n",
    "  print(\"{} (top topic: {})\".format(titles[i], doc_topic[i].argmax()))"
   ]
  },
  {
   "cell_type": "code",
   "execution_count": 34,
   "metadata": {
    "collapsed": false
   },
   "outputs": [],
   "source": [
    "# This is, our 30 dimensional representation of the original data.\n",
    "df = pandas.DataFrame(doc_topic)\n",
    "df.to_csv('data/%s' % OUTPUT_FILE, index=False)\n"
   ]
  },
  {
   "cell_type": "code",
   "execution_count": null,
   "metadata": {
    "collapsed": true
   },
   "outputs": [],
   "source": []
  }
 ],
 "metadata": {
  "kernelspec": {
   "display_name": "Python 2",
   "language": "python",
   "name": "python2"
  },
  "language_info": {
   "codemirror_mode": {
    "name": "ipython",
    "version": 2
   },
   "file_extension": ".py",
   "mimetype": "text/x-python",
   "name": "python",
   "nbconvert_exporter": "python",
   "pygments_lexer": "ipython2",
   "version": "2.7.12"
  }
 },
 "nbformat": 4,
 "nbformat_minor": 0
}
