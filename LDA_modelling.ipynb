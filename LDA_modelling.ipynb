{
 "cells": [
  {
   "cell_type": "code",
   "execution_count": 3,
   "metadata": {
    "collapsed": false
   },
   "outputs": [
    {
     "name": "stdout",
     "output_type": "stream",
     "text": [
      "Done\n"
     ]
    }
   ],
   "source": [
    "# Using LDA package\n",
    "# https://pypi.python.org/pypi/lda\n",
    "\n",
    "import numpy as np\n",
    "import lda\n",
    "#import lda.datasets\n",
    "\n",
    "import pandas\n",
    "\n",
    "# This is a new library I started writing for use here amongst elsewhere.\n",
    "import preprocess_text_data\n",
    "\n",
    "print(\"Done\")"
   ]
  },
  {
   "cell_type": "code",
   "execution_count": 5,
   "metadata": {
    "collapsed": false
   },
   "outputs": [],
   "source": [
    "INPUT_FILE = 'train_large.csv'\n",
    "OUTPUT_FILE = '%s_lda_50.csv' % INPUT_FILE.split(\".\")[0]\n",
    "\n",
    "X, vocab = preprocess_text_data.get_lda_training_data(\n",
    "    INPUT_FILE, 'FullDescriptionWithTitle', 3)"
   ]
  },
  {
   "cell_type": "code",
   "execution_count": 7,
   "metadata": {
    "collapsed": false
   },
   "outputs": [
    {
     "name": "stdout",
     "output_type": "stream",
     "text": [
      "train_large_lda_50.csv\n",
      "17712\n",
      "(20000, 17712)\n"
     ]
    }
   ],
   "source": [
    "# Check the dimensions.\n",
    "print(len(vocab))\n",
    "print(X.shape)\n",
    "\n"
   ]
  },
  {
   "cell_type": "code",
   "execution_count": 8,
   "metadata": {
    "collapsed": false
   },
   "outputs": [
    {
     "name": "stderr",
     "output_type": "stream",
     "text": [
      "INFO:lda:n_documents: 20000\n",
      "INFO:lda:vocab_size: 17712\n",
      "INFO:lda:n_words: 2713800\n",
      "INFO:lda:n_topics: 50\n",
      "INFO:lda:n_iter: 500\n",
      "INFO:lda:<0> log likelihood: -34457334\n",
      "INFO:lda:<10> log likelihood: -24453947\n",
      "INFO:lda:<20> log likelihood: -22810408\n",
      "INFO:lda:<30> log likelihood: -22314548\n",
      "INFO:lda:<40> log likelihood: -22071071\n",
      "INFO:lda:<50> log likelihood: -21922355\n",
      "INFO:lda:<60> log likelihood: -21833764\n"
     ]
    },
    {
     "ename": "KeyboardInterrupt",
     "evalue": "",
     "output_type": "error",
     "traceback": [
      "\u001b[0;31m---------------------------------------------------------------------------\u001b[0m",
      "\u001b[0;31mKeyboardInterrupt\u001b[0m                         Traceback (most recent call last)",
      "\u001b[0;32m<ipython-input-8-f1d4c7fb62e6>\u001b[0m in \u001b[0;36m<module>\u001b[0;34m()\u001b[0m\n\u001b[1;32m      1\u001b[0m \u001b[0mmodel\u001b[0m \u001b[0;34m=\u001b[0m \u001b[0mlda\u001b[0m\u001b[0;34m.\u001b[0m\u001b[0mLDA\u001b[0m\u001b[0;34m(\u001b[0m\u001b[0mn_topics\u001b[0m\u001b[0;34m=\u001b[0m\u001b[0;36m50\u001b[0m\u001b[0;34m,\u001b[0m \u001b[0mn_iter\u001b[0m\u001b[0;34m=\u001b[0m\u001b[0;36m500\u001b[0m\u001b[0;34m,\u001b[0m \u001b[0mrandom_state\u001b[0m\u001b[0;34m=\u001b[0m\u001b[0;36m1\u001b[0m\u001b[0;34m)\u001b[0m\u001b[0;34m\u001b[0m\u001b[0m\n\u001b[0;32m----> 2\u001b[0;31m \u001b[0mmodel\u001b[0m\u001b[0;34m.\u001b[0m\u001b[0mfit\u001b[0m\u001b[0;34m(\u001b[0m\u001b[0mX\u001b[0m\u001b[0;34m)\u001b[0m  \u001b[0;31m# model.fit_transform(X) is also available\u001b[0m\u001b[0;34m\u001b[0m\u001b[0m\n\u001b[0m\u001b[1;32m      3\u001b[0m \u001b[0mtopic_word\u001b[0m \u001b[0;34m=\u001b[0m \u001b[0mmodel\u001b[0m\u001b[0;34m.\u001b[0m\u001b[0mtopic_word_\u001b[0m  \u001b[0;31m# model.components_ also works\u001b[0m\u001b[0;34m\u001b[0m\u001b[0m\n\u001b[1;32m      4\u001b[0m \u001b[0mn_top_words\u001b[0m \u001b[0;34m=\u001b[0m \u001b[0;36m15\u001b[0m\u001b[0;34m\u001b[0m\u001b[0m\n\u001b[1;32m      5\u001b[0m \u001b[0;34m\u001b[0m\u001b[0m\n",
      "\u001b[0;32m/usr/local/lib/python3.5/dist-packages/lda/lda.py\u001b[0m in \u001b[0;36mfit\u001b[0;34m(self, X, y)\u001b[0m\n\u001b[1;32m    123\u001b[0m             \u001b[0mReturns\u001b[0m \u001b[0mthe\u001b[0m \u001b[0minstance\u001b[0m \u001b[0mitself\u001b[0m\u001b[0;34m.\u001b[0m\u001b[0;34m\u001b[0m\u001b[0m\n\u001b[1;32m    124\u001b[0m         \"\"\"\n\u001b[0;32m--> 125\u001b[0;31m         \u001b[0mself\u001b[0m\u001b[0;34m.\u001b[0m\u001b[0m_fit\u001b[0m\u001b[0;34m(\u001b[0m\u001b[0mX\u001b[0m\u001b[0;34m)\u001b[0m\u001b[0;34m\u001b[0m\u001b[0m\n\u001b[0m\u001b[1;32m    126\u001b[0m         \u001b[0;32mreturn\u001b[0m \u001b[0mself\u001b[0m\u001b[0;34m\u001b[0m\u001b[0m\n\u001b[1;32m    127\u001b[0m \u001b[0;34m\u001b[0m\u001b[0m\n",
      "\u001b[0;32m/usr/local/lib/python3.5/dist-packages/lda/lda.py\u001b[0m in \u001b[0;36m_fit\u001b[0;34m(self, X)\u001b[0m\n\u001b[1;32m    241\u001b[0m                 \u001b[0;31m# keep track of loglikelihoods for monitoring convergence\u001b[0m\u001b[0;34m\u001b[0m\u001b[0;34m\u001b[0m\u001b[0m\n\u001b[1;32m    242\u001b[0m                 \u001b[0mself\u001b[0m\u001b[0;34m.\u001b[0m\u001b[0mloglikelihoods_\u001b[0m\u001b[0;34m.\u001b[0m\u001b[0mappend\u001b[0m\u001b[0;34m(\u001b[0m\u001b[0mll\u001b[0m\u001b[0;34m)\u001b[0m\u001b[0;34m\u001b[0m\u001b[0m\n\u001b[0;32m--> 243\u001b[0;31m             \u001b[0mself\u001b[0m\u001b[0;34m.\u001b[0m\u001b[0m_sample_topics\u001b[0m\u001b[0;34m(\u001b[0m\u001b[0mrands\u001b[0m\u001b[0;34m)\u001b[0m\u001b[0;34m\u001b[0m\u001b[0m\n\u001b[0m\u001b[1;32m    244\u001b[0m         \u001b[0mll\u001b[0m \u001b[0;34m=\u001b[0m \u001b[0mself\u001b[0m\u001b[0;34m.\u001b[0m\u001b[0mloglikelihood\u001b[0m\u001b[0;34m(\u001b[0m\u001b[0;34m)\u001b[0m\u001b[0;34m\u001b[0m\u001b[0m\n\u001b[1;32m    245\u001b[0m         \u001b[0mlogger\u001b[0m\u001b[0;34m.\u001b[0m\u001b[0minfo\u001b[0m\u001b[0;34m(\u001b[0m\u001b[0;34m\"<{}> log likelihood: {:.0f}\"\u001b[0m\u001b[0;34m.\u001b[0m\u001b[0mformat\u001b[0m\u001b[0;34m(\u001b[0m\u001b[0mself\u001b[0m\u001b[0;34m.\u001b[0m\u001b[0mn_iter\u001b[0m \u001b[0;34m-\u001b[0m \u001b[0;36m1\u001b[0m\u001b[0;34m,\u001b[0m \u001b[0mll\u001b[0m\u001b[0;34m)\u001b[0m\u001b[0;34m)\u001b[0m\u001b[0;34m\u001b[0m\u001b[0m\n",
      "\u001b[0;32m/usr/local/lib/python3.5/dist-packages/lda/lda.py\u001b[0m in \u001b[0;36m_sample_topics\u001b[0;34m(self, rands)\u001b[0m\n\u001b[1;32m    301\u001b[0m         \u001b[0meta\u001b[0m \u001b[0;34m=\u001b[0m \u001b[0mnp\u001b[0m\u001b[0;34m.\u001b[0m\u001b[0mrepeat\u001b[0m\u001b[0;34m(\u001b[0m\u001b[0mself\u001b[0m\u001b[0;34m.\u001b[0m\u001b[0meta\u001b[0m\u001b[0;34m,\u001b[0m \u001b[0mvocab_size\u001b[0m\u001b[0;34m)\u001b[0m\u001b[0;34m.\u001b[0m\u001b[0mastype\u001b[0m\u001b[0;34m(\u001b[0m\u001b[0mnp\u001b[0m\u001b[0;34m.\u001b[0m\u001b[0mfloat64\u001b[0m\u001b[0;34m)\u001b[0m\u001b[0;34m\u001b[0m\u001b[0m\n\u001b[1;32m    302\u001b[0m         lda._lda._sample_topics(self.WS, self.DS, self.ZS, self.nzw_, self.ndz_, self.nz_,\n\u001b[0;32m--> 303\u001b[0;31m                                 alpha, eta, rands)\n\u001b[0m",
      "\u001b[0;31mKeyboardInterrupt\u001b[0m: "
     ]
    }
   ],
   "source": [
    "model = lda.LDA(n_topics=50, n_iter=500, random_state=1)\n",
    "model.fit(X)  # model.fit_transform(X) is also available\n",
    "topic_word = model.topic_word_  # model.components_ also works\n",
    "n_top_words = 15\n",
    "\n",
    "for i, topic_dist in enumerate(topic_word):\n",
    "  topic_words = np.array(vocab)[np.argsort(topic_dist)][:-(n_top_words+1):-1]\n",
    "  print('Topic {}: {}'.format(i, ' '.join(topic_words)))"
   ]
  },
  {
   "cell_type": "code",
   "execution_count": 11,
   "metadata": {
    "collapsed": false
   },
   "outputs": [
    {
     "name": "stdout",
     "output_type": "stream",
     "text": [
      "Engineering Systems Analyst (top topic: 1)\n",
      "Engineering Systems Analyst / Mathematical Modeller (top topic: 8)\n",
      "Pioneer, Miser Engineering Systems Analyst (top topic: 1)\n",
      "Engineering Systems Analyst Water Industry (top topic: 24)\n",
      "Senior Subsea Pipeline Integrity Engineer (top topic: 17)\n",
      "RECRUITMENT CONSULTANT  CONSTRUCTION / TECHNICAL / TRADES LABOUR (top topic: 29)\n",
      "PROJECT ENGINEER, PHARMACEUTICAL (top topic: 16)\n",
      "Chef de Partie  Award Winning Restaurant  Excellent Tips (top topic: 39)\n",
      "Quality Engineer (top topic: 16)\n",
      "Principal Controls Engineer (top topic: 17)\n",
      "Chef de Partie  Award Winning Dining  Live In  Share of Tips (top topic: 39)\n",
      "Senior Fatigue and Damage Tolerance Engineer (top topic: 17)\n",
      "C I Design Engineer (top topic: 38)\n",
      "Lead Engineers (Stress) (top topic: 17)\n",
      "Relief Chef de Partie  Croydon, Surrey  Live in (top topic: 39)\n",
      "Senior Control and Instrumentation Engineer (top topic: 17)\n",
      "Control and Instrumentation Engineer (top topic: 17)\n",
      "Electrical / ICA Engineer (top topic: 25)\n",
      "CHEF DE PARTIE POSITION IN **** ROSETTE HOTEL NYORKS  ****k (top topic: 23)\n",
      "General Manager  Funky, Cool Restaurant Concept  London  ****k  (top topic: 36)\n",
      "Senior Website Designer (top topic: 41)\n",
      "Welwyn Chef de Partie does it get any better than this? **** (top topic: 23)\n",
      "Chef de Partie Sauce Award Winning Hertford **** (top topic: 23)\n",
      "Pastry Chef AL**** ****AA Rosette Restaurant (top topic: 23)\n",
      "QA Engineer (top topic: 24)\n",
      "Documentation Engineer (top topic: 38)\n",
      "Bilingual Customer Service Operator (top topic: 34)\n",
      "Customer Event Coordinator (German speaking) (top topic: 34)\n",
      "Senior Planner (top topic: 25)\n",
      "Bilingual Reservationist (Customer Service) (top topic: 34)\n",
      "Trampoline Coach  Bushey Grove Leisure Centre (top topic: 45)\n",
      "Self Employed Swimming Instructors (top topic: 45)\n",
      "Self Employed Sport Coaches (top topic: 45)\n",
      "Bar/Waiting Staff  The Cricketers, Sarratt (top topic: 26)\n",
      "Deputy Manager  Nevill Crest and Gun, Eridge Green (top topic: 26)\n",
      "Bar/Waiting Staff  The Refectory, Godalming (top topic: 23)\n",
      "Web Developer (top topic: 46)\n",
      "Software Engineer/Mathematical Modeller (top topic: 24)\n",
      "Mathematical Modeller (top topic: 1)\n",
      "Software Engineer / Algorithm Design / Mathematical Modeller (top topic: 24)\n",
      "Senior Mechanical Engineer Design and Substantiation (top topic: 17)\n",
      "Senior Mechanical Engineer Design and Substantiation (top topic: 17)\n",
      "User Experience Developer (top topic: 41)\n",
      "IT Telesales (top topic: 29)\n",
      "FIELD SALES ENGINEER / SALES ACCOUNT MANAGER  PLASTICS (top topic: 9)\n",
      "Sales Negotiator  Birmingham (top topic: 22)\n",
      "Senior **** IT Recruitment Consulltant (top topic: 29)\n",
      "Chef de Partie  Sutton Hall, Macclesfield (top topic: 23)\n",
      "Senior Manufacturing Engineer (top topic: 17)\n",
      "C / C++ SOFTWARE ENGINEERS (All levels) (top topic: 24)\n"
     ]
    }
   ],
   "source": [
    "\n",
    "#TODO (any) This should not be here :D.\n",
    "data  = pandas.read_csv('data/%s' % FILE)\n",
    "titles = data[\"Title\"]\n",
    "\n",
    "doc_topic = model.doc_topic_\n",
    "for i in range(50):  \n",
    "  print(\"{} (top topic: {})\".format(titles[i], doc_topic[i].argmax()))"
   ]
  },
  {
   "cell_type": "code",
   "execution_count": 12,
   "metadata": {
    "collapsed": false
   },
   "outputs": [],
   "source": [
    "# This is, our 30 dimensional representation of the original data.\n",
    "df = pandas.DataFrame(doc_topic)\n",
    "df.to_csv('data/%s' % OUTPUT_FILE, index=False)\n"
   ]
  },
  {
   "cell_type": "code",
   "execution_count": null,
   "metadata": {
    "collapsed": true
   },
   "outputs": [],
   "source": []
  }
 ],
 "metadata": {
  "kernelspec": {
   "display_name": "Python 3",
   "language": "python",
   "name": "python3"
  },
  "language_info": {
   "codemirror_mode": {
    "name": "ipython",
    "version": 3
   },
   "file_extension": ".py",
   "mimetype": "text/x-python",
   "name": "python",
   "nbconvert_exporter": "python",
   "pygments_lexer": "ipython3",
   "version": "3.5.3"
  }
 },
 "nbformat": 4,
 "nbformat_minor": 0
}
