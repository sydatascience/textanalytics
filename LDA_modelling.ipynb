{
 "cells": [
  {
   "cell_type": "code",
   "execution_count": 1,
   "metadata": {
    "collapsed": false
   },
   "outputs": [
    {
     "name": "stdout",
     "output_type": "stream",
     "text": [
      "Done\n"
     ]
    }
   ],
   "source": [
    "# Using LDA package\n",
    "# https://pypi.python.org/pypi/lda\n",
    "\n",
    "import numpy as np\n",
    "import lda\n",
    "import lda.datasets\n",
    "\n",
    "# This is a new library I started writing for use here amongst elsewhere.\n",
    "import preprocess_text_data\n",
    "\n",
    "print(\"Done\")"
   ]
  },
  {
   "cell_type": "code",
   "execution_count": 8,
   "metadata": {
    "collapsed": true
   },
   "outputs": [],
   "source": [
    "FILE = 'train_large.csv'\n",
    "OUTPUT_FILE = 'train_large_lda_50.csv'\n",
    "\n",
    "X, vocab = preprocess_text_data.get_lda_training_data(\n",
    "    FILE, 'FullDescriptionWithTitle', 3)"
   ]
  },
  {
   "cell_type": "code",
   "execution_count": 9,
   "metadata": {
    "collapsed": false
   },
   "outputs": [
    {
     "name": "stdout",
     "output_type": "stream",
     "text": [
      "17714\n",
      "(20000, 17714)\n"
     ]
    }
   ],
   "source": [
    "# Check the dimensions.\n",
    "print(len(vocab))\n",
    "print(X.shape)\n",
    "\n"
   ]
  },
  {
   "cell_type": "code",
   "execution_count": 10,
   "metadata": {
    "collapsed": false
   },
   "outputs": [
    {
     "name": "stdout",
     "output_type": "stream",
     "text": [
      "Topic 0: cv role vacancy experience work reference public qualifications longer sector email working short covering applications\n",
      "Topic 1: nbsp job salary pound apply location surrey hampshire bull client company role reading berkshire services\n",
      "Topic 2: care support training work healthcare pay job provide experience worker flexible live home apply rates\n",
      "Topic 3: care staff home ensure residents health manager standards needs assist team nursing training ensuring responsible\n",
      "Topic 4: hr experience financial management services compliance role client corporate working support investment business regulatory payroll\n",
      "Topic 5: project experience projects business management manager technical requirements solutions delivery client skills systems implementation development\n",
      "Topic 6: motor sales trade automotive manager service car vehicle technician uk contact executive hgv client jobs\n",
      "Topic 7: 2013 date post closing research january application apply applications uk february university information job form\n",
      "Topic 8: data analyst business analysis experience risk skills reporting senior knowledge credit role analytical modelling sas\n",
      "Topic 9: sales business new account manager development client market product products executive existing company relationships clients\n",
      "Topic 10: employment recruitment agency business permanent hays temporary job specialist limited acts policy supply applying age\n",
      "Topic 11: marketing digital media agency experience account online brand creative client clients communications campaigns team pr\n",
      "Topic 12: opportunity role company career excellent client looking team join successful working experience candidate work fantastic\n",
      "Topic 13: training health experience qualification qualifications job level skills apply required learning rec client provide work\n",
      "Topic 14: maintenance electrical engineer equipment experience mechanical service systems working work plant engineering company technician role\n",
      "Topic 15: benefits pension scheme salary days company holiday package bonus excellent skills free training plus competitive\n",
      "Topic 16: quality manufacturing production product process experience products improvement suppliers supplier supply engineering technical food management\n",
      "Topic 17: design engineer engineering mechanical experience technical work projects oil project engineers gas company process support\n",
      "Topic 18: home manager care nursing experience deputy registered nurse elderly recruitment staff management rgn client role\n",
      "Topic 19: com contract work www cv months available visit looking uk locum month london experience apply\n",
      "Topic 20: administrator office administration duties role support team mso telephone assistant processing dealing include administrative experience\n",
      "Topic 21: sales customer service executive experience customers business role telesales company client looking training based centre\n",
      "Topic 22: skills ability work excellent experience communication good able team working knowledge customer essential strong environment\n",
      "Topic 23: food ll great working manager clear selection pub job assistant client best love work make\n",
      "Topic 24: software test experience engineer systems development testing design skills technical embedded electronics knowledge products engineering\n",
      "Topic 25: projects project experience construction contract management uk safety client commercial building work engineering contracts site\n",
      "Topic 26: ll work people new need like apply role help team make best want looking contact\n",
      "Topic 27: support technical experience systems security infrastructure network windows knowledge server service services engineer skills line\n",
      "Topic 28: business management support performance ensure development team key delivery develop deliver group ability effective provide\n",
      "Topic 29: recruitment consultant travel business graduate company career working basic senior days experience commission sales clients\n",
      "Topic 30: sales recruitment uk business company manager west south www managers midlands east office area car\n",
      "Topic 31: nurse home nursing care rgn registered rmn staff elderly working nurses general apply looking dementia\n",
      "Topic 32: manager team management role experience managing senior service business lead strong responsible leading operations manage\n",
      "Topic 33: experience work working cnc required machine looking able client operator experienced site candidate position shift\n",
      "Topic 34: experience legal insurance customer client speaking german working english claims support service french commercial clients\n",
      "Topic 35: agency vacancy employment acting recruitment role relation cv position apply experience opportunity salary client business\n",
      "Topic 36: manager assistant retail store general service team great customer looking com company experience posted originally\n",
      "Topic 37: hours work week required monday friday working duties experience cleaning include days time essential hour\n",
      "Topic 38: ensure customer required procedures service maintain appropriate ensuring work requirements team provide company duties job\n",
      "Topic 39: chef hotel partie kitchen head restaurant work food sous live role requirements position uk high\n",
      "Topic 40: nurse experience clinical hospital patients healthcare medical team health staff working practice theatre uk private\n",
      "Topic 41: developer experience web development java design php team skills technical software javascript oracle applications html\n",
      "Topic 42: school teacher teaching education teachers primary looking year schools work pupils qualified excellent students experience\n",
      "Topic 43: application applications candidates successful uk high receive work days contact role volume recruitment able note\n",
      "Topic 44: asbestos property estate clients company successful management experience future skills water industry good uk looking\n",
      "Topic 45: children people young support working charity development staff nursery community work committed team welfare local\n",
      "Topic 46: net developer sql development software server asp experience web sharepoint skills microsoft database client team\n",
      "Topic 47: care support people service learning social residential homes disabilities worker needs domiciliary health workers staff\n",
      "Topic 48: social work brown team eden worker experience care uk qualified service employer working equal opportunities\n",
      "Topic 49: financial finance management accountant accounts business reporting qualified accounting role audit experience group commercial team\n"
     ]
    }
   ],
   "source": [
    "#model = LatentDirichletAllocation(n_jobs=-1)\n",
    "\n",
    "model = lda.LDA(n_topics=50, n_iter=500, random_state=1)\n",
    "model.fit(X)  # model.fit_transform(X) is also available\n",
    "topic_word = model.topic_word_  # model.components_ also works\n",
    "n_top_words = 15\n",
    "\n",
    "for i, topic_dist in enumerate(topic_word):\n",
    "  topic_words = np.array(vocab)[np.argsort(topic_dist)][:-(n_top_words+1):-1]\n",
    "  print('Topic {}: {}'.format(i, ' '.join(topic_words)))"
   ]
  },
  {
   "cell_type": "code",
   "execution_count": 11,
   "metadata": {
    "collapsed": false
   },
   "outputs": [
    {
     "name": "stdout",
     "output_type": "stream",
     "text": [
      "Engineering Systems Analyst (top topic: 1)\n",
      "Engineering Systems Analyst / Mathematical Modeller (top topic: 8)\n",
      "Pioneer, Miser Engineering Systems Analyst (top topic: 1)\n",
      "Engineering Systems Analyst Water Industry (top topic: 24)\n",
      "Senior Subsea Pipeline Integrity Engineer (top topic: 17)\n",
      "RECRUITMENT CONSULTANT  CONSTRUCTION / TECHNICAL / TRADES LABOUR (top topic: 29)\n",
      "PROJECT ENGINEER, PHARMACEUTICAL (top topic: 16)\n",
      "Chef de Partie  Award Winning Restaurant  Excellent Tips (top topic: 39)\n",
      "Quality Engineer (top topic: 16)\n",
      "Principal Controls Engineer (top topic: 17)\n",
      "Chef de Partie  Award Winning Dining  Live In  Share of Tips (top topic: 39)\n",
      "Senior Fatigue and Damage Tolerance Engineer (top topic: 17)\n",
      "C I Design Engineer (top topic: 38)\n",
      "Lead Engineers (Stress) (top topic: 17)\n",
      "Relief Chef de Partie  Croydon, Surrey  Live in (top topic: 39)\n",
      "Senior Control and Instrumentation Engineer (top topic: 17)\n",
      "Control and Instrumentation Engineer (top topic: 17)\n",
      "Electrical / ICA Engineer (top topic: 25)\n",
      "CHEF DE PARTIE POSITION IN **** ROSETTE HOTEL NYORKS  ****k (top topic: 23)\n",
      "General Manager  Funky, Cool Restaurant Concept  London  ****k  (top topic: 36)\n",
      "Senior Website Designer (top topic: 41)\n",
      "Welwyn Chef de Partie does it get any better than this? **** (top topic: 23)\n",
      "Chef de Partie Sauce Award Winning Hertford **** (top topic: 23)\n",
      "Pastry Chef AL**** ****AA Rosette Restaurant (top topic: 23)\n",
      "QA Engineer (top topic: 24)\n",
      "Documentation Engineer (top topic: 38)\n",
      "Bilingual Customer Service Operator (top topic: 34)\n",
      "Customer Event Coordinator (German speaking) (top topic: 34)\n",
      "Senior Planner (top topic: 25)\n",
      "Bilingual Reservationist (Customer Service) (top topic: 34)\n",
      "Trampoline Coach  Bushey Grove Leisure Centre (top topic: 45)\n",
      "Self Employed Swimming Instructors (top topic: 45)\n",
      "Self Employed Sport Coaches (top topic: 45)\n",
      "Bar/Waiting Staff  The Cricketers, Sarratt (top topic: 26)\n",
      "Deputy Manager  Nevill Crest and Gun, Eridge Green (top topic: 26)\n",
      "Bar/Waiting Staff  The Refectory, Godalming (top topic: 23)\n",
      "Web Developer (top topic: 46)\n",
      "Software Engineer/Mathematical Modeller (top topic: 24)\n",
      "Mathematical Modeller (top topic: 1)\n",
      "Software Engineer / Algorithm Design / Mathematical Modeller (top topic: 24)\n",
      "Senior Mechanical Engineer Design and Substantiation (top topic: 17)\n",
      "Senior Mechanical Engineer Design and Substantiation (top topic: 17)\n",
      "User Experience Developer (top topic: 41)\n",
      "IT Telesales (top topic: 29)\n",
      "FIELD SALES ENGINEER / SALES ACCOUNT MANAGER  PLASTICS (top topic: 9)\n",
      "Sales Negotiator  Birmingham (top topic: 22)\n",
      "Senior **** IT Recruitment Consulltant (top topic: 29)\n",
      "Chef de Partie  Sutton Hall, Macclesfield (top topic: 23)\n",
      "Senior Manufacturing Engineer (top topic: 17)\n",
      "C / C++ SOFTWARE ENGINEERS (All levels) (top topic: 24)\n"
     ]
    }
   ],
   "source": [
    "import pandas\n",
    "\n",
    "#TODO (any) This should not be here :D.\n",
    "data  = pandas.read_csv('data/%s' % FILE)\n",
    "titles = data[\"Title\"]\n",
    "\n",
    "doc_topic = model.doc_topic_\n",
    "for i in range(50):  \n",
    "  print(\"{} (top topic: {})\".format(titles[i], doc_topic[i].argmax()))"
   ]
  },
  {
   "cell_type": "code",
   "execution_count": 12,
   "metadata": {
    "collapsed": false
   },
   "outputs": [],
   "source": [
    "# This is, our 30 dimensional representation of the original data.\n",
    "df = pandas.DataFrame(doc_topic)\n",
    "df.to_csv('data/%s' % OUTPUT_FILE, index=False)\n"
   ]
  },
  {
   "cell_type": "code",
   "execution_count": null,
   "metadata": {
    "collapsed": true
   },
   "outputs": [],
   "source": []
  }
 ],
 "metadata": {
  "kernelspec": {
   "display_name": "Python 2",
   "language": "python",
   "name": "python2"
  },
  "language_info": {
   "codemirror_mode": {
    "name": "ipython",
    "version": 2
   },
   "file_extension": ".py",
   "mimetype": "text/x-python",
   "name": "python",
   "nbconvert_exporter": "python",
   "pygments_lexer": "ipython2",
   "version": "2.7.12"
  }
 },
 "nbformat": 4,
 "nbformat_minor": 0
}
