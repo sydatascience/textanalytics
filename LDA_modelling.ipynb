{
 "cells": [
  {
   "cell_type": "code",
   "execution_count": 10,
   "metadata": {
    "collapsed": false
   },
   "outputs": [
    {
     "name": "stdout",
     "output_type": "stream",
     "text": [
      "Done\n"
     ]
    }
   ],
   "source": [
    "# Using LDA package\n",
    "# https://pypi.python.org/pypi/lda\n",
    "\n",
    "import numpy as np\n",
    "import lda\n",
    "import lda.datasets\n",
    "\n",
    "# This is a new library I started writing for use here amongst elsewhere.\n",
    "import preprocess_text_data\n",
    "\n",
    "print(\"Done\")"
   ]
  },
  {
   "cell_type": "code",
   "execution_count": 8,
   "metadata": {
    "collapsed": true
   },
   "outputs": [],
   "source": [
    "FILE = 'train_large.csv'\n",
    "\n",
    "X, vocab = preprocess_text_data.get_lda_training_data(\n",
    "    FILE, 'FullDescriptionWithTitle', 10)"
   ]
  },
  {
   "cell_type": "code",
   "execution_count": 3,
   "metadata": {
    "collapsed": false
   },
   "outputs": [
    {
     "name": "stdout",
     "output_type": "stream",
     "text": [
      "9270\n",
      "(20000, 9270)\n"
     ]
    }
   ],
   "source": [
    "# Check the dimensions.\n",
    "print(len(vocab))\n",
    "print(X.shape)"
   ]
  },
  {
   "cell_type": "code",
   "execution_count": 4,
   "metadata": {
    "collapsed": false
   },
   "outputs": [
    {
     "name": "stdout",
     "output_type": "stream",
     "text": [
      "Topic 0: care support people training worker home provide service\n",
      "Topic 1: data experience business test analyst skills testing analysis\n",
      "Topic 2: work healthcare scheme benefits uk pension free pay\n",
      "Topic 3: care health staff team clinical nurse ensure post\n",
      "Topic 4: ensure service work customer team ability required procedures\n",
      "Topic 5: sales business company executive new account customer role\n",
      "Topic 6: developer software development net web experience skills team\n",
      "Topic 7: financial management finance business reporting accountant risk qualified\n",
      "Topic 8: chef food hotel restaurant partie kitchen work head\n",
      "Topic 9: recruitment consultant business company senior career days uk\n",
      "Topic 10: project management projects manager delivery experience development technical\n",
      "Topic 11: job recruitment client work working www looking contact\n",
      "Topic 12: engineer design engineering experience mechanical electrical maintenance systems\n",
      "Topic 13: skills customer experience office administrator team administration role\n",
      "Topic 14: nbsp manager motor sales trade service automotive car\n",
      "Topic 15: hours work required week working monday experience friday\n",
      "Topic 16: quality manufacturing production engineering experience company safety product\n",
      "Topic 17: hr applications role uk skills employment training based\n",
      "Topic 18: support technical experience systems security network infrastructure skills\n",
      "Topic 19: school teacher 2013 asbestos teaching education date post\n",
      "Topic 20: work social children experience employer brown team eden\n",
      "Topic 21: manager service retail store assistant management customer team\n",
      "Topic 22: home care nursing nurse manager rgn registered experience\n",
      "Topic 23: client opportunity role experience london leading join company\n",
      "Topic 24: cv experience role vacancy legal working applications work\n",
      "Topic 25: marketing digital media experience account agency manager client\n",
      "Topic 26: employment recruitment agency permanent uk job temporary business\n",
      "Topic 27: business skills team ability role management strong excellent\n",
      "Topic 28: role experience opportunity looking working successful work excellent\n",
      "Topic 29: ll people great team career work looking make\n"
     ]
    }
   ],
   "source": [
    "model = lda.LDA(n_topics=30, n_iter=200, random_state=1)\n",
    "model.fit(X)  # model.fit_transform(X) is also available\n",
    "topic_word = model.topic_word_  # model.components_ also works\n",
    "n_top_words = 10\n",
    "\n",
    "for i, topic_dist in enumerate(topic_word):\n",
    "  topic_words = np.array(vocab)[np.argsort(topic_dist)][:-(n_top_words+1):-1]\n",
    "  print('Topic {}: {}'.format(i, ' '.join(topic_words)))"
   ]
  },
  {
   "cell_type": "code",
   "execution_count": 14,
   "metadata": {
    "collapsed": false
   },
   "outputs": [
    {
     "name": "stdout",
     "output_type": "stream",
     "text": [
      "Engineering Systems Analyst (top topic: 1)\n",
      "Engineering Systems Analyst / Mathematical Modeller (top topic: 1)\n",
      "Pioneer, Miser Engineering Systems Analyst (top topic: 12)\n",
      "Engineering Systems Analyst Water Industry (top topic: 1)\n",
      "Senior Subsea Pipeline Integrity Engineer (top topic: 12)\n",
      "RECRUITMENT CONSULTANT  CONSTRUCTION / TECHNICAL / TRADES LABOUR (top topic: 9)\n",
      "PROJECT ENGINEER, PHARMACEUTICAL (top topic: 10)\n",
      "Chef de Partie  Award Winning Restaurant  Excellent Tips (top topic: 8)\n",
      "Quality Engineer (top topic: 16)\n",
      "Principal Controls Engineer (top topic: 12)\n",
      "Chef de Partie  Award Winning Dining  Live In  Share of Tips (top topic: 8)\n",
      "Senior Fatigue and Damage Tolerance Engineer (top topic: 12)\n",
      "C I Design Engineer (top topic: 10)\n",
      "Lead Engineers (Stress) (top topic: 12)\n",
      "Relief Chef de Partie  Croydon, Surrey  Live in (top topic: 8)\n",
      "Senior Control and Instrumentation Engineer (top topic: 12)\n",
      "Control and Instrumentation Engineer (top topic: 12)\n",
      "Electrical / ICA Engineer (top topic: 12)\n",
      "CHEF DE PARTIE POSITION IN **** ROSETTE HOTEL NYORKS  ****k (top topic: 11)\n",
      "General Manager  Funky, Cool Restaurant Concept  London  ****k  (top topic: 29)\n",
      "Senior Website Designer (top topic: 6)\n",
      "Welwyn Chef de Partie does it get any better than this? **** (top topic: 11)\n",
      "Chef de Partie Sauce Award Winning Hertford **** (top topic: 11)\n",
      "Pastry Chef AL**** ****AA Rosette Restaurant (top topic: 11)\n",
      "QA Engineer (top topic: 1)\n",
      "Documentation Engineer (top topic: 12)\n",
      "Bilingual Customer Service Operator (top topic: 13)\n",
      "Customer Event Coordinator (German speaking) (top topic: 13)\n",
      "Senior Planner (top topic: 19)\n",
      "Bilingual Reservationist (Customer Service) (top topic: 13)\n",
      "Trampoline Coach  Bushey Grove Leisure Centre (top topic: 4)\n",
      "Self Employed Swimming Instructors (top topic: 19)\n",
      "Self Employed Sport Coaches (top topic: 19)\n",
      "Bar/Waiting Staff  The Cricketers, Sarratt (top topic: 29)\n",
      "Deputy Manager  Nevill Crest and Gun, Eridge Green (top topic: 29)\n",
      "Bar/Waiting Staff  The Refectory, Godalming (top topic: 29)\n",
      "Web Developer (top topic: 6)\n",
      "Software Engineer/Mathematical Modeller (top topic: 1)\n",
      "Mathematical Modeller (top topic: 1)\n",
      "Software Engineer / Algorithm Design / Mathematical Modeller (top topic: 1)\n",
      "Senior Mechanical Engineer Design and Substantiation (top topic: 12)\n",
      "Senior Mechanical Engineer Design and Substantiation (top topic: 12)\n",
      "User Experience Developer (top topic: 6)\n",
      "IT Telesales (top topic: 9)\n",
      "FIELD SALES ENGINEER / SALES ACCOUNT MANAGER  PLASTICS (top topic: 5)\n",
      "Sales Negotiator  Birmingham (top topic: 27)\n",
      "Senior **** IT Recruitment Consulltant (top topic: 9)\n",
      "Chef de Partie  Sutton Hall, Macclesfield (top topic: 8)\n",
      "Senior Manufacturing Engineer (top topic: 10)\n",
      "C / C++ SOFTWARE ENGINEERS (All levels) (top topic: 6)\n"
     ]
    }
   ],
   "source": [
    "import pandas\n",
    "\n",
    "#TODO (any) This should not be here :D.\n",
    "data  = pandas.read_csv('data/%s' % FILE)\n",
    "titles = data[\"Title\"]\n",
    "\n",
    "doc_topic = model.doc_topic_\n",
    "for i in range(50):  \n",
    "  print(\"{} (top topic: {})\".format(titles[i], doc_topic[i].argmax()))"
   ]
  },
  {
   "cell_type": "code",
   "execution_count": 20,
   "metadata": {
    "collapsed": false
   },
   "outputs": [],
   "source": [
    "# This is, our 30 dimensional representation of the original data.\n",
    "df = pandas.DataFrame(doc_topic)\n",
    "df.to_csv('data/first_lda_large_out.csv', index=False)\n"
   ]
  }
 ],
 "metadata": {
  "kernelspec": {
   "display_name": "Python 2",
   "language": "python",
   "name": "python2"
  },
  "language_info": {
   "codemirror_mode": {
    "name": "ipython",
    "version": 2
   },
   "file_extension": ".py",
   "mimetype": "text/x-python",
   "name": "python",
   "nbconvert_exporter": "python",
   "pygments_lexer": "ipython2",
   "version": "2.7.12"
  }
 },
 "nbformat": 4,
 "nbformat_minor": 0
}
