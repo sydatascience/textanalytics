{
 "cells": [
  {
   "cell_type": "code",
   "execution_count": 1,
   "metadata": {
    "collapsed": false
   },
   "outputs": [
    {
     "name": "stdout",
     "output_type": "stream",
     "text": [
      "Done\n"
     ]
    }
   ],
   "source": [
    "# To default to float division and print function.\n",
    "from __future__ import (division, print_function)\n",
    "\n",
    "# Core python libraries\n",
    "import csv\n",
    "import re\n",
    "import math\n",
    "\n",
    "# External libraries.\n",
    "import nltk\n",
    "import numpy\n",
    "import pandas\n",
    "import scipy\n",
    "import sklearn\n",
    "# Sklearn is not eager in importing its dependancies. Have to explicity load them.\n",
    "import sklearn.ensemble\n",
    "\n",
    "# So you know when this code block finishes.\n",
    "print (\"Done\")"
   ]
  },
  {
   "cell_type": "code",
   "execution_count": 2,
   "metadata": {
    "collapsed": false
   },
   "outputs": [
    {
     "data": {
      "text/html": [
       "<div style=\"max-height:1000px;max-width:1500px;overflow:auto;\">\n",
       "<table border=\"1\" class=\"dataframe\">\n",
       "  <thead>\n",
       "    <tr style=\"text-align: right;\">\n",
       "      <th></th>\n",
       "      <th>Id</th>\n",
       "      <th>Title</th>\n",
       "      <th>FullDescription</th>\n",
       "      <th>LocationRaw</th>\n",
       "      <th>LocationNormalized</th>\n",
       "      <th>ContractType</th>\n",
       "      <th>ContractTime</th>\n",
       "      <th>Company</th>\n",
       "      <th>Category</th>\n",
       "      <th>SalaryRaw</th>\n",
       "      <th>SalaryNormalized</th>\n",
       "      <th>SourceName</th>\n",
       "      <th>DescriptionLength</th>\n",
       "      <th>LogSalaryNormalized</th>\n",
       "    </tr>\n",
       "  </thead>\n",
       "  <tbody>\n",
       "    <tr>\n",
       "      <th>0</th>\n",
       "      <td> 12612628</td>\n",
       "      <td>                       Engineering Systems Analyst</td>\n",
       "      <td> Engineering Systems Analyst Dorking Surrey Sal...</td>\n",
       "      <td>         Dorking, Surrey, Surrey</td>\n",
       "      <td> Dorking</td>\n",
       "      <td> NaN</td>\n",
       "      <td> permanent</td>\n",
       "      <td> Gregory Martin International</td>\n",
       "      <td> Engineering Jobs</td>\n",
       "      <td>             20000 - 30000/annum 20-30K</td>\n",
       "      <td> 25000</td>\n",
       "      <td> cv-library.co.uk</td>\n",
       "      <td>  348</td>\n",
       "      <td> 10.126631</td>\n",
       "    </tr>\n",
       "    <tr>\n",
       "      <th>1</th>\n",
       "      <td> 12613049</td>\n",
       "      <td> Engineering Systems Analyst / Mathematical Mod...</td>\n",
       "      <td> Engineering Systems Analyst / Mathematical Mod...</td>\n",
       "      <td>  Surrey, South East, South East</td>\n",
       "      <td>  Surrey</td>\n",
       "      <td> NaN</td>\n",
       "      <td> permanent</td>\n",
       "      <td> Gregory Martin International</td>\n",
       "      <td> Engineering Jobs</td>\n",
       "      <td> 25000 - 30000/annum 25K-30K negotiable</td>\n",
       "      <td> 27500</td>\n",
       "      <td> cv-library.co.uk</td>\n",
       "      <td>  397</td>\n",
       "      <td> 10.221941</td>\n",
       "    </tr>\n",
       "    <tr>\n",
       "      <th>2</th>\n",
       "      <td> 12613647</td>\n",
       "      <td>        Pioneer, Miser Engineering Systems Analyst</td>\n",
       "      <td> Pioneer, Miser  Engineering Systems Analyst Do...</td>\n",
       "      <td>  Surrey, South East, South East</td>\n",
       "      <td>  Surrey</td>\n",
       "      <td> NaN</td>\n",
       "      <td> permanent</td>\n",
       "      <td> Gregory Martin International</td>\n",
       "      <td> Engineering Jobs</td>\n",
       "      <td>             20000 - 30000/annum 20-30K</td>\n",
       "      <td> 25000</td>\n",
       "      <td> cv-library.co.uk</td>\n",
       "      <td>  216</td>\n",
       "      <td> 10.126631</td>\n",
       "    </tr>\n",
       "    <tr>\n",
       "      <th>3</th>\n",
       "      <td> 13179816</td>\n",
       "      <td>        Engineering Systems Analyst Water Industry</td>\n",
       "      <td> Engineering Systems Analyst Water Industry Loc...</td>\n",
       "      <td> Dorking, Surrey, Surrey, Surrey</td>\n",
       "      <td> Dorking</td>\n",
       "      <td> NaN</td>\n",
       "      <td> permanent</td>\n",
       "      <td> Gregory Martin International</td>\n",
       "      <td> Engineering Jobs</td>\n",
       "      <td>         20000 - 30000/annum 20K to 30K</td>\n",
       "      <td> 25000</td>\n",
       "      <td> cv-library.co.uk</td>\n",
       "      <td> 1602</td>\n",
       "      <td> 10.126631</td>\n",
       "    </tr>\n",
       "    <tr>\n",
       "      <th>4</th>\n",
       "      <td> 14131336</td>\n",
       "      <td>         Senior Subsea Pipeline Integrity Engineer</td>\n",
       "      <td> A globally renowned engineering and training c...</td>\n",
       "      <td>               Aberdeen, Borders</td>\n",
       "      <td>      UK</td>\n",
       "      <td> NaN</td>\n",
       "      <td> permanent</td>\n",
       "      <td>                Indigo 21 Ltd</td>\n",
       "      <td> Engineering Jobs</td>\n",
       "      <td>                   50000 - 100000/annum</td>\n",
       "      <td> 75000</td>\n",
       "      <td> cv-library.co.uk</td>\n",
       "      <td> 1364</td>\n",
       "      <td> 11.225243</td>\n",
       "    </tr>\n",
       "  </tbody>\n",
       "</table>\n",
       "</div>"
      ],
      "text/plain": [
       "         Id                                              Title  \\\n",
       "0  12612628                        Engineering Systems Analyst   \n",
       "1  12613049  Engineering Systems Analyst / Mathematical Mod...   \n",
       "2  12613647         Pioneer, Miser Engineering Systems Analyst   \n",
       "3  13179816         Engineering Systems Analyst Water Industry   \n",
       "4  14131336          Senior Subsea Pipeline Integrity Engineer   \n",
       "\n",
       "                                     FullDescription  \\\n",
       "0  Engineering Systems Analyst Dorking Surrey Sal...   \n",
       "1  Engineering Systems Analyst / Mathematical Mod...   \n",
       "2  Pioneer, Miser  Engineering Systems Analyst Do...   \n",
       "3  Engineering Systems Analyst Water Industry Loc...   \n",
       "4  A globally renowned engineering and training c...   \n",
       "\n",
       "                       LocationRaw LocationNormalized ContractType  \\\n",
       "0          Dorking, Surrey, Surrey            Dorking          NaN   \n",
       "1   Surrey, South East, South East             Surrey          NaN   \n",
       "2   Surrey, South East, South East             Surrey          NaN   \n",
       "3  Dorking, Surrey, Surrey, Surrey            Dorking          NaN   \n",
       "4                Aberdeen, Borders                 UK          NaN   \n",
       "\n",
       "  ContractTime                       Company          Category  \\\n",
       "0    permanent  Gregory Martin International  Engineering Jobs   \n",
       "1    permanent  Gregory Martin International  Engineering Jobs   \n",
       "2    permanent  Gregory Martin International  Engineering Jobs   \n",
       "3    permanent  Gregory Martin International  Engineering Jobs   \n",
       "4    permanent                 Indigo 21 Ltd  Engineering Jobs   \n",
       "\n",
       "                                SalaryRaw  SalaryNormalized        SourceName  \\\n",
       "0              20000 - 30000/annum 20-30K             25000  cv-library.co.uk   \n",
       "1  25000 - 30000/annum 25K-30K negotiable             27500  cv-library.co.uk   \n",
       "2              20000 - 30000/annum 20-30K             25000  cv-library.co.uk   \n",
       "3          20000 - 30000/annum 20K to 30K             25000  cv-library.co.uk   \n",
       "4                    50000 - 100000/annum             75000  cv-library.co.uk   \n",
       "\n",
       "   DescriptionLength  LogSalaryNormalized  \n",
       "0                348            10.126631  \n",
       "1                397            10.221941  \n",
       "2                216            10.126631  \n",
       "3               1602            10.126631  \n",
       "4               1364            11.225243  "
      ]
     },
     "execution_count": 2,
     "metadata": {},
     "output_type": "execute_result"
    }
   ],
   "source": [
    "data = pandas.read_csv('data/train_medium.csv')\n",
    "\n",
    "X_train_index, X_test_index, Y_train, Y_test = sklearn.cross_validation.train_test_split(\n",
    "    data.index, data['LogSalaryNormalized'], test_size=.33, random_state=42)\n",
    "\n",
    "# Keep train and test as pandas dataframes.\n",
    "X_train = data.iloc[X_train_index]\n",
    "X_test = data.iloc[X_test_index]\n",
    "\n",
    "data.head()\n"
   ]
  },
  {
   "cell_type": "code",
   "execution_count": 54,
   "metadata": {
    "collapsed": false
   },
   "outputs": [
    {
     "name": "stdout",
     "output_type": "stream",
     "text": [
      "(670, 1789)\n",
      "(330, 1789)\n"
     ]
    }
   ],
   "source": [
    "MIN_WORD_FREQUENCY = 5\n",
    "\n",
    "count_vect = sklearn.feature_extraction.text.CountVectorizer(\n",
    "  stop_words='english', min_df=MIN_WORD_FREQUENCY)\n",
    "\n",
    "# Here I am count vectoring the full description field. But in theory\n",
    "# any text field can be processed this way.\n",
    "X_train_full_description_counts = count_vect.fit_transform(X_train['FullDescription'])\n",
    "X_test_full_description_counts = count_vect.transform(X_test['FullDescription'])\n",
    "\n",
    "print(X_train_full_description_counts.shape)\n",
    "print(X_test_full_description_counts.shape)\n",
    "#TODO (max): supress the VisibleDeprecationWarning here from numpy. It is being thrown by the package."
   ]
  },
  {
   "cell_type": "code",
   "execution_count": 56,
   "metadata": {
    "collapsed": false
   },
   "outputs": [
    {
     "name": "stdout",
     "output_type": "stream",
     "text": [
      "Mean salary value in training set is  £  25941.22\n",
      "Guess the average Mean Absolute Error:  9396.2364\n"
     ]
    },
    {
     "name": "stderr",
     "output_type": "stream",
     "text": [
      "/usr/local/lib/python2.7/dist-packages/sklearn/utils/validation.py:420: DataConversionWarning: Data with input dtype int64 was converted to float64 by the normalize function.\n",
      "  warnings.warn(msg, DataConversionWarning)\n",
      "/usr/local/lib/python2.7/dist-packages/sklearn/utils/validation.py:420: DataConversionWarning: Data with input dtype int64 was converted to float64 by the normalize function.\n",
      "  warnings.warn(msg, DataConversionWarning)\n"
     ]
    },
    {
     "name": "stdout",
     "output_type": "stream",
     "text": [
      "SGDRegressor Mean Absolute Error:  9307.8323\n",
      "Random Forest Regressor Mean Absolute Error:  5093.3135\n"
     ]
    }
   ],
   "source": [
    "def original_salary_scale(log_value):\n",
    "    return math.exp(log_value)\n",
    "\n",
    "def mean_absolute_error_salary_scale(y_test, y_predicted):\n",
    "    return sklearn.metrics.mean_absolute_error(\n",
    "        numpy.exp(y_test), numpy.exp(y_predicted))\n",
    "\n",
    "# Guess the average. Create an empty vector of the desired shape.\n",
    "average_guess = numpy.empty(Y_test.shape)\n",
    "average_guess.fill(numpy.mean(Y_train))\n",
    "\n",
    "mean_guess = average_guess[0]\n",
    "print('Mean salary value in training set is  £{:10.2f}'.format(original_salary_scale(mean_guess)))\n",
    "average_guess_mae = mean_absolute_error_salary_scale(Y_test, average_guess)\n",
    "print('Guess the average Mean Absolute Error: {:10.4f}'.format(average_guess_mae))\n",
    "\n",
    "# SGD Needs normalized inputs\n",
    "# TODO: Suppress DataConversionWarning from converting ints to floats here.\n",
    "normalizer = sklearn.preprocessing.Normalizer(norm='l1')\n",
    "X_train_norm = normalizer.fit_transform(X_train_full_description_counts)\n",
    "X_test_norm = normalizer.transform(X_test_full_description_counts)\n",
    "\n",
    "# We want a stochastic gradient descent with l1 norm.\n",
    "sgd = sklearn.linear_model.SGDRegressor(alpha=.005, penalty='l1', n_iter=10000)\n",
    "sgd.fit(X_norm, Y_train)\n",
    "sgd_predictions = sgd.predict(Y_norm)\n",
    "sgd_mae = mean_absolute_error_salary_scale(Y_test, sgd_predictions)\n",
    "print('SGDRegressor Mean Absolute Error: {:10.4f}'.format(sgd_mae))\n",
    "#TODO (any): wonder why this is so inaccurate/wrong\n",
    "\n",
    "# Random Forest.\n",
    "rf = sklearn.ensemble.RandomForestRegressor(n_estimators=10)\n",
    "rf.fit(X_train_full_description_counts, Y_train)\n",
    "rf_predictions = rf.predict(X_test_full_description_counts)\n",
    "\n",
    "# Mean Absolute Error\n",
    "rf_mae = mean_absolute_error_salary_scale(Y_test, rf_predictions)\n",
    "print('Random Forest Regressor Mean Absolute Error: {:10.4f}'.format(rf_mae))\n"
   ]
  },
  {
   "cell_type": "code",
   "execution_count": 65,
   "metadata": {
    "collapsed": false
   },
   "outputs": [
    {
     "name": "stdout",
     "output_type": "stream",
     "text": [
      "[ 9.94608877]\n"
     ]
    }
   ],
   "source": [
    "print(sgd.intercept_)"
   ]
  },
  {
   "cell_type": "code",
   "execution_count": 5,
   "metadata": {
    "collapsed": false
   },
   "outputs": [],
   "source": [
    "import tensorflow\n",
    "\n"
   ]
  },
  {
   "cell_type": "code",
   "execution_count": 7,
   "metadata": {
    "collapsed": false
   },
   "outputs": [],
   "source": [
    "import tflearn"
   ]
  },
  {
   "cell_type": "code",
   "execution_count": 8,
   "metadata": {
    "collapsed": false
   },
   "outputs": [
    {
     "data": {
      "text/plain": [
       "<module 'tflearn.datasets' from '/usr/local/lib/python2.7/dist-packages/tflearn/datasets/__init__.pyc'>"
      ]
     },
     "execution_count": 8,
     "metadata": {},
     "output_type": "execute_result"
    }
   ],
   "source": [
    "tflearn.datasets"
   ]
  },
  {
   "cell_type": "code",
   "execution_count": 27,
   "metadata": {
    "collapsed": false,
    "scrolled": true
   },
   "outputs": [
    {
     "data": {
      "text/plain": [
       "<tf.Tensor 'Const:0' shape=(670, 1100) dtype=int64>"
      ]
     },
     "execution_count": 27,
     "metadata": {},
     "output_type": "execute_result"
    }
   ],
   "source": [
    "#print (tensorflow.sparse_to_dense(X_train_full_description_counts[0], 670, X_train_full_description_counts[1]))\n",
    "\n"
   ]
  },
  {
   "cell_type": "code",
   "execution_count": 90,
   "metadata": {
    "collapsed": false
   },
   "outputs": [],
   "source": [
    "# Please see http://tflearn.org/examples/\n",
    "#dnn_model = tflearn.models.dnn.DNN([3,3,3,1], 0\n",
    "X = X_train_full_description_counts.todense().astype(float)\n",
    "m, n = numpy.shape(X)\n",
    "Y = Y_train\n",
    "Y = Y.reshape(m, 1).astype(float)\n",
    "#print (Y.shape)\n",
    "\n",
    "\n",
    "#input_layer = tflearn.input_data(shape=[None, n], name='input')\n",
    "#linear = tflearn.fully_connected(input_layer, 16)\n",
    "\n",
    "#dnn_regressor = tensorflow.contrib.learn.DNNRegressor(hidden_units=[128, 1])\n",
    "#dnn_regressor.fit(feed_dict={X: X, Y: Y}, batch_size=100, steps=1000)\n",
    "\n",
    "#regression = tflearn.regression(linear, optimizer='sgd', loss='mean_square',\n",
    "#                                metric='R2', learning_rate=0.01)\n",
    "#m = tflearn.DNN(regression)\n",
    "#m.fit(X, Y, n_epoch=1000, show_metric=True, snapshot_epoch=False)\n"
   ]
  },
  {
   "cell_type": "code",
   "execution_count": 92,
   "metadata": {
    "collapsed": false
   },
   "outputs": [
    {
     "ename": "TypeError",
     "evalue": "Input 'b' of 'MatMul' Op has type float32 that does not match type float64 of argument 'a'.",
     "output_type": "error",
     "traceback": [
      "\u001b[1;31m---------------------------------------------------------------------------\u001b[0m",
      "\u001b[1;31mTypeError\u001b[0m                                 Traceback (most recent call last)",
      "\u001b[1;32m<ipython-input-92-cb56acdb4a57>\u001b[0m in \u001b[0;36m<module>\u001b[1;34m()\u001b[0m\n\u001b[0;32m      6\u001b[0m \u001b[0mW\u001b[0m \u001b[1;33m=\u001b[0m \u001b[0mtensorflow\u001b[0m\u001b[1;33m.\u001b[0m\u001b[0mPrint\u001b[0m\u001b[1;33m(\u001b[0m\u001b[0mW\u001b[0m\u001b[1;33m,\u001b[0m \u001b[1;33m[\u001b[0m\u001b[0mW\u001b[0m\u001b[1;33m]\u001b[0m\u001b[1;33m,\u001b[0m \u001b[1;34m\"Weights: \"\u001b[0m\u001b[1;33m)\u001b[0m\u001b[1;33m\u001b[0m\u001b[0m\n\u001b[0;32m      7\u001b[0m \u001b[1;33m\u001b[0m\u001b[0m\n\u001b[1;32m----> 8\u001b[1;33m \u001b[0my\u001b[0m \u001b[1;33m=\u001b[0m \u001b[0mtensorflow\u001b[0m\u001b[1;33m.\u001b[0m\u001b[0madd\u001b[0m\u001b[1;33m(\u001b[0m\u001b[0mtensorflow\u001b[0m\u001b[1;33m.\u001b[0m\u001b[0mmatmul\u001b[0m\u001b[1;33m(\u001b[0m\u001b[0mX\u001b[0m\u001b[1;33m,\u001b[0m \u001b[0mW\u001b[0m\u001b[1;33m)\u001b[0m\u001b[1;33m,\u001b[0m \u001b[0mb\u001b[0m\u001b[1;33m)\u001b[0m\u001b[1;33m\u001b[0m\u001b[0m\n\u001b[0m\u001b[0;32m      9\u001b[0m \u001b[0my\u001b[0m \u001b[1;33m=\u001b[0m \u001b[0mtensorflow\u001b[0m\u001b[1;33m.\u001b[0m\u001b[0mPrint\u001b[0m\u001b[1;33m(\u001b[0m\u001b[0my\u001b[0m\u001b[1;33m,\u001b[0m \u001b[1;33m[\u001b[0m\u001b[0my\u001b[0m\u001b[1;33m]\u001b[0m\u001b[1;33m,\u001b[0m \u001b[1;34m\"y: \"\u001b[0m\u001b[1;33m)\u001b[0m\u001b[1;33m\u001b[0m\u001b[0m\n\u001b[0;32m     10\u001b[0m \u001b[1;33m\u001b[0m\u001b[0m\n",
      "\u001b[1;32m/usr/local/lib/python2.7/dist-packages/tensorflow/python/ops/math_ops.pyc\u001b[0m in \u001b[0;36mmatmul\u001b[1;34m(a, b, transpose_a, transpose_b, a_is_sparse, b_is_sparse, name)\u001b[0m\n\u001b[0;32m   1207\u001b[0m                                    \u001b[0mtranspose_a\u001b[0m\u001b[1;33m=\u001b[0m\u001b[0mtranspose_a\u001b[0m\u001b[1;33m,\u001b[0m\u001b[1;33m\u001b[0m\u001b[0m\n\u001b[0;32m   1208\u001b[0m                                    \u001b[0mtranspose_b\u001b[0m\u001b[1;33m=\u001b[0m\u001b[0mtranspose_b\u001b[0m\u001b[1;33m,\u001b[0m\u001b[1;33m\u001b[0m\u001b[0m\n\u001b[1;32m-> 1209\u001b[1;33m                                    name=name)\n\u001b[0m\u001b[0;32m   1210\u001b[0m \u001b[1;33m\u001b[0m\u001b[0m\n\u001b[0;32m   1211\u001b[0m \u001b[0msparse_matmul\u001b[0m \u001b[1;33m=\u001b[0m \u001b[0mgen_math_ops\u001b[0m\u001b[1;33m.\u001b[0m\u001b[0m_sparse_mat_mul\u001b[0m\u001b[1;33m\u001b[0m\u001b[0m\n",
      "\u001b[1;32m/usr/local/lib/python2.7/dist-packages/tensorflow/python/ops/gen_math_ops.pyc\u001b[0m in \u001b[0;36m_mat_mul\u001b[1;34m(a, b, transpose_a, transpose_b, name)\u001b[0m\n\u001b[0;32m   1176\u001b[0m   \"\"\"\n\u001b[0;32m   1177\u001b[0m   result = _op_def_lib.apply_op(\"MatMul\", a=a, b=b, transpose_a=transpose_a,\n\u001b[1;32m-> 1178\u001b[1;33m                                 transpose_b=transpose_b, name=name)\n\u001b[0m\u001b[0;32m   1179\u001b[0m   \u001b[1;32mreturn\u001b[0m \u001b[0mresult\u001b[0m\u001b[1;33m\u001b[0m\u001b[0m\n\u001b[0;32m   1180\u001b[0m \u001b[1;33m\u001b[0m\u001b[0m\n",
      "\u001b[1;32m/usr/local/lib/python2.7/dist-packages/tensorflow/python/ops/op_def_library.pyc\u001b[0m in \u001b[0;36mapply_op\u001b[1;34m(self, op_type_name, name, **keywords)\u001b[0m\n\u001b[0;32m    467\u001b[0m                   \u001b[1;34m\"%s type %s of argument '%s'.\"\u001b[0m \u001b[1;33m%\u001b[0m\u001b[1;33m\u001b[0m\u001b[0m\n\u001b[0;32m    468\u001b[0m                   (prefix, dtypes.as_dtype(attrs[input_arg.type_attr]).name,\n\u001b[1;32m--> 469\u001b[1;33m                    inferred_from[input_arg.type_attr]))\n\u001b[0m\u001b[0;32m    470\u001b[0m \u001b[1;33m\u001b[0m\u001b[0m\n\u001b[0;32m    471\u001b[0m           \u001b[0mtypes\u001b[0m \u001b[1;33m=\u001b[0m \u001b[1;33m[\u001b[0m\u001b[0mvalues\u001b[0m\u001b[1;33m.\u001b[0m\u001b[0mdtype\u001b[0m\u001b[1;33m]\u001b[0m\u001b[1;33m\u001b[0m\u001b[0m\n",
      "\u001b[1;31mTypeError\u001b[0m: Input 'b' of 'MatMul' Op has type float32 that does not match type float64 of argument 'a'."
     ]
    }
   ],
   "source": [
    "\n",
    "W = tensorflow.Variable(tensorflow.zeros([m,1]))\n",
    "b = tensorflow.Variable(tensorflow.zeros([1]))\n",
    "\n",
    "b = tensorflow.Print(b, [b], \"Bias: \")\n",
    "W = tensorflow.Print(W, [W], \"Weights: \")\n",
    "\n",
    "y = tensorflow.add(tensorflow.matmul(X, W), b)\n",
    "y = tensorflow.Print(y, [y], \"y: \")\n",
    "\n",
    "loss = tensorflow.reduce_sum(tensorflow.square(y - y_data)) / (2 * m)\n",
    "loss = tensorflow.Print(loss, [loss], \"loss: \")\n",
    "optimizer = tensorflow.train.GradientDescentOptimizer(.001)\n",
    "\n",
    "train = optimizer.minimize(loss)\n",
    "\n",
    "init = tensorflow.initialize_all_variables()\n",
    "\n",
    "sess = tensorflow.Session()\n",
    "sess.run(init)                                \n",
    "\n",
    "for i in range(10):\n",
    "  sess.run(train)\n",
    "  #if i % 20 == 0:\n",
    "        #print(sess.run(W), sess.run(b))  \n",
    "\n",
    "sess.close()"
   ]
  }
 ],
 "metadata": {
  "kernelspec": {
   "display_name": "Python 2",
   "language": "python",
   "name": "python2"
  },
  "language_info": {
   "codemirror_mode": {
    "name": "ipython",
    "version": 2
   },
   "file_extension": ".py",
   "mimetype": "text/x-python",
   "name": "python",
   "nbconvert_exporter": "python",
   "pygments_lexer": "ipython2",
   "version": "2.7.6"
  }
 },
 "nbformat": 4,
 "nbformat_minor": 0
}
