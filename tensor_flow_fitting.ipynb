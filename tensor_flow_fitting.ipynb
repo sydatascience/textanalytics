{
 "cells": [
  {
   "cell_type": "code",
   "execution_count": 15,
   "metadata": {
    "collapsed": false
   },
   "outputs": [
    {
     "name": "stdout",
     "output_type": "stream",
     "text": [
      "Done\n"
     ]
    }
   ],
   "source": [
    "# To default to float division and print function.\n",
    "from __future__ import (division, print_function)\n",
    "\n",
    "# Core python libraries\n",
    "import csv\n",
    "import re\n",
    "import math\n",
    "\n",
    "# External libraries.\n",
    "import nltk\n",
    "import numpy\n",
    "import pandas\n",
    "import scipy\n",
    "import sklearn\n",
    "\n",
    "# Tensorflow and related.\n",
    "import tensorflow\n",
    "\n",
    "# For fitting streamlined tensor flow models.\n",
    "import tflearn\n",
    "\n",
    "# So you know when this code block finishes.\n",
    "print (\"Done\")"
   ]
  },
  {
   "cell_type": "code",
   "execution_count": 80,
   "metadata": {
    "collapsed": false
   },
   "outputs": [
    {
     "name": "stdout",
     "output_type": "stream",
     "text": [
      "         Id                                              Title  \\\n",
      "0  12612628                        Engineering Systems Analyst   \n",
      "1  12613049  Engineering Systems Analyst / Mathematical Mod...   \n",
      "2  12613647         Pioneer, Miser Engineering Systems Analyst   \n",
      "3  13179816         Engineering Systems Analyst Water Industry   \n",
      "4  14131336          Senior Subsea Pipeline Integrity Engineer   \n",
      "\n",
      "                                     FullDescription  \\\n",
      "0  Engineering Systems Analyst Dorking Surrey Sal...   \n",
      "1  Engineering Systems Analyst / Mathematical Mod...   \n",
      "2  Pioneer, Miser  Engineering Systems Analyst Do...   \n",
      "3  Engineering Systems Analyst Water Industry Loc...   \n",
      "4  A globally renowned engineering and training c...   \n",
      "\n",
      "                       LocationRaw LocationNormalized   ContractType  \\\n",
      "0          Dorking, Surrey, Surrey            Dorking  unknown_value   \n",
      "1   Surrey, South East, South East             Surrey  unknown_value   \n",
      "2   Surrey, South East, South East             Surrey  unknown_value   \n",
      "3  Dorking, Surrey, Surrey, Surrey            Dorking  unknown_value   \n",
      "4                Aberdeen, Borders                 UK  unknown_value   \n",
      "\n",
      "  ContractTime                       Company          Category  \\\n",
      "0    permanent  Gregory Martin International  Engineering Jobs   \n",
      "1    permanent  Gregory Martin International  Engineering Jobs   \n",
      "2    permanent  Gregory Martin International  Engineering Jobs   \n",
      "3    permanent  Gregory Martin International  Engineering Jobs   \n",
      "4    permanent                 Indigo 21 Ltd  Engineering Jobs   \n",
      "\n",
      "                                SalaryRaw  SalaryNormalized        SourceName  \\\n",
      "0              20000 - 30000/annum 20-30K             25000  cv-library.co.uk   \n",
      "1  25000 - 30000/annum 25K-30K negotiable             27500  cv-library.co.uk   \n",
      "2              20000 - 30000/annum 20-30K             25000  cv-library.co.uk   \n",
      "3          20000 - 30000/annum 20K to 30K             25000  cv-library.co.uk   \n",
      "4                    50000 - 100000/annum             75000  cv-library.co.uk   \n",
      "\n",
      "   DescriptionLength  LogSalaryNormalized  HighPayingJobs  \n",
      "0                348            10.126631               0  \n",
      "1                397            10.221941               0  \n",
      "2                216            10.126631               0  \n",
      "3               1602            10.126631               0  \n",
      "4               1364            11.225243               1  \n",
      "Done\n"
     ]
    }
   ],
   "source": [
    "#TODO (max): make a library that does all this preprocessing\n",
    "\n",
    "data = pandas.read_csv('data/train_medium.csv')\n",
    "\n",
    "LABEL_COLUMN = \"HighPayingJobs\"\n",
    "data[LABEL_COLUMN] = (data[\"SalaryNormalized\"].apply(lambda x: x >= 50000)).astype(int)\n",
    "\n",
    "# This needs to be done as otherwise null/Nan/NA values will raise errors where\n",
    "# we are expecting strings in our categorical variables\n",
    "data[\"ContractTime\"] = data[\"ContractTime\"].fillna(\"unknown_value\")\n",
    "data[\"ContractType\"] = data[\"ContractType\"].fillna(\"unknown_value\")\n",
    "\n",
    "X_train_index, X_test_index, Y_train, Y_test = sklearn.cross_validation.train_test_split(\n",
    "    data.index, data['LogSalaryNormalized'], test_size=.33, random_state=42)\n",
    "\n",
    "# Keep train and test as pandas dataframes.\n",
    "X_train = data.iloc[X_train_index]\n",
    "X_test = data.iloc[X_test_index]\n",
    "\n",
    "# Uncomment this next line if you want to check the data.\n",
    "# print(data.head())\n",
    "\n",
    "print (\"Done\")"
   ]
  },
  {
   "cell_type": "code",
   "execution_count": 17,
   "metadata": {
    "collapsed": false
   },
   "outputs": [
    {
     "name": "stdout",
     "output_type": "stream",
     "text": [
      "(670, 786)\n",
      "(330, 786)\n"
     ]
    }
   ],
   "source": [
    "MIN_WORD_FREQUENCY = 15\n",
    "\n",
    "count_vect = sklearn.feature_extraction.text.CountVectorizer(\n",
    "  stop_words='english', min_df=MIN_WORD_FREQUENCY)\n",
    "\n",
    "# Here I am count vectoring the full description field. But in theory\n",
    "# any text field can be processed this way.\n",
    "X_train_full_description_counts = count_vect.fit_transform(X_train['FullDescription'])\n",
    "X_test_full_description_counts = count_vect.transform(X_test['FullDescription'])\n",
    "\n",
    "print(X_train_full_description_counts.shape)\n",
    "print(X_test_full_description_counts.shape)\n",
    "#TODO (max): supress the VisibleDeprecationWarning here from numpy. It is being thrown by the package."
   ]
  },
  {
   "cell_type": "code",
   "execution_count": 18,
   "metadata": {
    "collapsed": false
   },
   "outputs": [
    {
     "name": "stdout",
     "output_type": "stream",
     "text": [
      "Mean salary value in training set is  £  25941.22\n",
      "Guess the average Mean Absolute Error:  9396.2364\n",
      "SGDRegressor Mean Absolute Error: 27970.8024\n"
     ]
    }
   ],
   "source": [
    "def mean_absolute_error_salary_scale(y_test, y_predicted):\n",
    "    return sklearn.metrics.mean_absolute_error(\n",
    "        numpy.exp(y_test), numpy.exp(y_predicted))\n",
    "\n",
    "# Guess the average. Create an empty vector of the desired shape.\n",
    "average_guess = numpy.empty(Y_test.shape)\n",
    "average_guess.fill(numpy.mean(Y_train))\n",
    "\n",
    "mean_guess = average_guess[0]\n",
    "print('Mean salary value in training set is  £{:10.2f}'.format(math.exp(mean_guess)))\n",
    "average_guess_mae = mean_absolute_error_salary_scale(Y_test, average_guess)\n",
    "print('Guess the average Mean Absolute Error: {:10.4f}'.format(average_guess_mae))\n",
    "\n",
    "# SGD Needs normalized inputs\n",
    "normalizer = sklearn.preprocessing.Normalizer(norm='l1')\n",
    "X_train_norm = normalizer.fit_transform(X_train_full_description_counts.astype('float64'))\n",
    "X_test_norm = normalizer.transform(X_test_full_description_counts.astype('float64'))\n",
    "\n",
    "# We want a stochastic gradient descent with l1 norm.\n",
    "sgd = sklearn.linear_model.SGDRegressor(alpha=.005, penalty='l1', n_iter=100)\n",
    "sgd.fit(X_train_norm, Y_train)\n",
    "sgd_predictions = sgd.predict(X_test_norm)\n",
    "sgd_mae = mean_absolute_error_salary_scale(Y_test, sgd_predictions)\n",
    "print('SGDRegressor Mean Absolute Error: {:10.4f}'.format(sgd_mae))\n",
    "#TODO (any): wonder why this is so inaccurate/wrong"
   ]
  },
  {
   "cell_type": "code",
   "execution_count": 93,
   "metadata": {
    "collapsed": false
   },
   "outputs": [],
   "source": [
    "# Will try and do a logistic regression to predict High paying jobs as per\n",
    "# https://www.tensorflow.org/versions/r0.10/tutorials/wide/index.html\n",
    "# print(X_test[LABEL_COLUMN])"
   ]
  },
  {
   "cell_type": "code",
   "execution_count": 58,
   "metadata": {
    "collapsed": false
   },
   "outputs": [
    {
     "name": "stdout",
     "output_type": "stream",
     "text": [
      "set(['unknown_value', 'part_time', 'full_time'])\n"
     ]
    }
   ],
   "source": [
    "print(set(data['ContractType']))"
   ]
  },
  {
   "cell_type": "code",
   "execution_count": 68,
   "metadata": {
    "collapsed": false
   },
   "outputs": [],
   "source": [
    "# feature_cols: A dict from feature column names to Tensors or SparseTensors.\n",
    "# label: A Tensor containing the label column\n",
    "\n",
    "# The keys of the feature_cols will be used to when construct columns in the next\n",
    "# section. Because we want to call the fit and evaluate methods with different \n",
    "# data, we define two different input builder functions, train_input_fn and\n",
    "# test_input_fn which are identical except that they pass different data to\n",
    "# input_fn. Note that input_fn will be called while constructing the TensorFlow\n",
    "# graph, not while running the graph. What it is returning is a representation\n",
    "# of the input data as the fundamental unit of TensorFlow computations, a Tensor\n",
    "# (or SparseTensor).\n",
    "\n",
    "CONTINUOUS_COLUMNS = [\"SalaryNormalized\", \"DescriptionLength\"]\n",
    "\n",
    "CATEGORICAL_COLUMNS = [\"ContractTime\", \"ContractType\"]\n",
    "\n",
    "def input_fn(df):\n",
    "  # Creates a dictionary mapping from each continuous feature column name (k) to\n",
    "  # the values of that column stored in a constant Tensor.\n",
    "  continuous_cols = {k: tensorflow.constant(df[k].values)\n",
    "                     for k in CONTINUOUS_COLUMNS}\n",
    "  # Creates a dictionary mapping from each categorical feature column name (k)\n",
    "  # to the values of that column stored in a tensorflow.SparseTensor.\n",
    "  categorical_cols = {k: tensorflow.SparseTensor(\n",
    "      indices=[[i, 0] for i in range(df[k].size)],\n",
    "      values=df[k].values,\n",
    "      shape=[df[k].size, 1])\n",
    "                      for k in CATEGORICAL_COLUMNS}\n",
    "  # Merges the two dictionaries into one.\n",
    "  feature_cols = dict(continuous_cols.items() + categorical_cols.items())\n",
    "  # Converts the label column into a constant Tensor.\n",
    "  label = tensorflow.constant(df[LABEL_COLUMN].values)\n",
    "  # Returns the feature columns and the label.\n",
    "  return feature_cols, label\n",
    "\n",
    "def train_input_fn():\n",
    "  return input_fn(X_train)\n",
    "\n",
    "def eval_input_fn():\n",
    "  return input_fn(X_test)\n"
   ]
  },
  {
   "cell_type": "code",
   "execution_count": 97,
   "metadata": {
    "collapsed": false
   },
   "outputs": [],
   "source": [
    "import tempfile\n",
    "\n",
    "salary_normalized = tensorflow.contrib.layers.real_valued_column(\"SalaryNormalized\")\n",
    "description_length = tensorflow.contrib.layers.real_valued_column(\"DescriptionLength\")\n",
    "contract_time = tensorflow.contrib.layers.sparse_column_with_hash_bucket(\"ContractTime\",\n",
    "                                                                         hash_bucket_size=100)\n",
    "contract_type = tensorflow.contrib.layers.sparse_column_with_hash_bucket(\"ContractType\",\n",
    "                                                                         hash_bucket_size=100)\n",
    "\n",
    "\n",
    "\n",
    "model_dir = tempfile.mkdtemp()\n",
    "m = tensorflow.contrib.learn.LinearClassifier(feature_columns=[\n",
    "        salary_normalized,\n",
    "        #description_length, contract_time, contract_type\n",
    "    ],\n",
    "    optimizer=tensorflow.train.FtrlOptimizer(\n",
    "    learning_rate=0.1,\n",
    "    l1_regularization_strength=1.0,\n",
    "    l2_regularization_strength=1.0),\n",
    "  model_dir=model_dir)"
   ]
  },
  {
   "cell_type": "code",
   "execution_count": 98,
   "metadata": {
    "collapsed": false
   },
   "outputs": [
    {
     "data": {
      "text/plain": [
       "LinearClassifier()"
      ]
     },
     "execution_count": 98,
     "metadata": {},
     "output_type": "execute_result"
    }
   ],
   "source": [
    "m.fit(input_fn=train_input_fn, steps=2000)\n"
   ]
  },
  {
   "cell_type": "code",
   "execution_count": 100,
   "metadata": {
    "collapsed": false
   },
   "outputs": [
    {
     "name": "stdout",
     "output_type": "stream",
     "text": [
      "accuracy: 0.942424\n",
      "eval_auc: 0.5\n",
      "loss: 8.97484\n"
     ]
    }
   ],
   "source": [
    "results = m.evaluate(input_fn=eval_input_fn, steps=100)\n",
    "for key in sorted(results):\n",
    "    print (\"%s: %s\" % (key, results[key]))"
   ]
  }
 ],
 "metadata": {
  "kernelspec": {
   "display_name": "Python 2",
   "language": "python",
   "name": "python2"
  },
  "language_info": {
   "codemirror_mode": {
    "name": "ipython",
    "version": 2
   },
   "file_extension": ".py",
   "mimetype": "text/x-python",
   "name": "python",
   "nbconvert_exporter": "python",
   "pygments_lexer": "ipython2",
   "version": "2.7.12"
  }
 },
 "nbformat": 4,
 "nbformat_minor": 0
}
