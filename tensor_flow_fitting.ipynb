{
 "cells": [
  {
   "cell_type": "code",
   "execution_count": 3,
   "metadata": {
    "collapsed": false
   },
   "outputs": [
    {
     "name": "stdout",
     "output_type": "stream",
     "text": [
      "Done\n"
     ]
    }
   ],
   "source": [
    "# To default to float division and print function.\n",
    "from __future__ import (division, print_function)\n",
    "\n",
    "# Core python libraries\n",
    "import csv\n",
    "import re\n",
    "import math\n",
    "\n",
    "# External libraries.\n",
    "import nltk\n",
    "import numpy\n",
    "import pandas\n",
    "import scipy\n",
    "import sklearn\n",
    "\n",
    "# Tensorflow and related.\n",
    "import tensorflow\n",
    "\n",
    "# For fitting streamlined tensor flow models.\n",
    "import tflearn\n",
    "\n",
    "# So you know when this code block finishes.\n",
    "print (\"Done\")"
   ]
  },
  {
   "cell_type": "code",
   "execution_count": 7,
   "metadata": {
    "collapsed": false
   },
   "outputs": [
    {
     "name": "stdout",
     "output_type": "stream",
     "text": [
      "Done\n"
     ]
    }
   ],
   "source": [
    "data = pandas.read_csv('data/train_medium.csv')\n",
    "\n",
    "X_train_index, X_test_index, Y_train, Y_test = sklearn.cross_validation.train_test_split(\n",
    "    data.index, data['LogSalaryNormalized'], test_size=.33, random_state=42)\n",
    "\n",
    "# Keep train and test as pandas dataframes.\n",
    "X_train = data.iloc[X_train_index]\n",
    "X_test = data.iloc[X_test_index]\n",
    "\n",
    "# Uncomment this next line if you want to check the data.\n",
    "# data.head()\n",
    "\n",
    "print (\"Done\")"
   ]
  },
  {
   "cell_type": "code",
   "execution_count": 12,
   "metadata": {
    "collapsed": false
   },
   "outputs": [
    {
     "name": "stdout",
     "output_type": "stream",
     "text": [
      "(670, 786)\n",
      "(330, 786)\n"
     ]
    }
   ],
   "source": [
    "MIN_WORD_FREQUENCY = 15\n",
    "\n",
    "count_vect = sklearn.feature_extraction.text.CountVectorizer(\n",
    "  stop_words='english', min_df=MIN_WORD_FREQUENCY)\n",
    "\n",
    "# Here I am count vectoring the full description field. But in theory\n",
    "# any text field can be processed this way.\n",
    "X_train_full_description_counts = count_vect.fit_transform(X_train['FullDescription'])\n",
    "X_test_full_description_counts = count_vect.transform(X_test['FullDescription'])\n",
    "\n",
    "print(X_train_full_description_counts.shape)\n",
    "print(X_test_full_description_counts.shape)\n",
    "#TODO (max): supress the VisibleDeprecationWarning here from numpy. It is being thrown by the package."
   ]
  },
  {
   "cell_type": "code",
   "execution_count": 18,
   "metadata": {
    "collapsed": false
   },
   "outputs": [
    {
     "name": "stdout",
     "output_type": "stream",
     "text": [
      "Mean salary value in training set is  £  25941.22\n",
      "Guess the average Mean Absolute Error:  9396.2364\n",
      "SGDRegressor Mean Absolute Error:  9320.6531\n"
     ]
    }
   ],
   "source": [
    "def original_salary_scale(log_value):\n",
    "    return math.exp(log_value)\n",
    "\n",
    "def mean_absolute_error_salary_scale(y_test, y_predicted):\n",
    "    return sklearn.metrics.mean_absolute_error(\n",
    "        numpy.exp(y_test), numpy.exp(y_predicted))\n",
    "\n",
    "# Guess the average. Create an empty vector of the desired shape.\n",
    "average_guess = numpy.empty(Y_test.shape)\n",
    "average_guess.fill(numpy.mean(Y_train))\n",
    "\n",
    "mean_guess = average_guess[0]\n",
    "print('Mean salary value in training set is  £{:10.2f}'.format(original_salary_scale(mean_guess)))\n",
    "average_guess_mae = mean_absolute_error_salary_scale(Y_test, average_guess)\n",
    "print('Guess the average Mean Absolute Error: {:10.4f}'.format(average_guess_mae))\n",
    "\n",
    "# SGD Needs normalized inputs\n",
    "# TODO: Suppress DataConversionWarning from converting ints to floats here.\n",
    "normalizer = sklearn.preprocessing.Normalizer(norm='l1')\n",
    "X_train_norm = normalizer.fit_transform(X_train_full_description_counts.astype('float64'))\n",
    "X_test_norm = normalizer.transform(X_test_full_description_counts.astype('float64'))\n",
    "\n",
    "# We want a stochastic gradient descent with l1 norm.\n",
    "sgd = sklearn.linear_model.SGDRegressor(alpha=.005, penalty='l1', n_iter=10000)\n",
    "sgd.fit(X_train_norm, Y_train)\n",
    "sgd_predictions = sgd.predict(X_test_norm)\n",
    "sgd_mae = mean_absolute_error_salary_scale(Y_test, sgd_predictions)\n",
    "print('SGDRegressor Mean Absolute Error: {:10.4f}'.format(sgd_mae))\n",
    "#TODO (any): wonder why this is so inaccurate/wrong"
   ]
  },
  {
   "cell_type": "code",
   "execution_count": 17,
   "metadata": {
    "collapsed": false
   },
   "outputs": [
    {
     "name": "stdout",
     "output_type": "stream",
     "text": [
      "[ 9.80475551]\n",
      "10.1635886033\n"
     ]
    }
   ],
   "source": [
    "print(sgd.intercept_)\n",
    "print (mean_guess)"
   ]
  },
  {
   "cell_type": "code",
   "execution_count": 19,
   "metadata": {
    "collapsed": false
   },
   "outputs": [],
   "source": [
    "# Please see http://tflearn.org/examples/\n",
    "#dnn_model = tflearn.models.dnn.DNN([3,3,3,1], 0\n",
    "X = X_train_full_description_counts.todense().astype(float)\n",
    "m, n = numpy.shape(X)\n",
    "Y = Y_train\n",
    "Y = Y.reshape(m, 1).astype(float)\n",
    "#print (Y.shape)\n",
    "\n",
    "\n",
    "#input_layer = tflearn.input_data(shape=[None, n], name='input')\n",
    "#linear = tflearn.fully_connected(input_layer, 16)\n",
    "\n",
    "#dnn_regressor = tensorflow.contrib.learn.DNNRegressor(hidden_units=[128, 1])\n",
    "#dnn_regressor.fit(feed_dict={X: X, Y: Y}, batch_size=100, steps=1000)\n",
    "\n",
    "#regression = tflearn.regression(linear, optimizer='sgd', loss='mean_square',\n",
    "#                                metric='R2', learning_rate=0.01)\n",
    "#m = tflearn.DNN(regression)\n",
    "#m.fit(X, Y, n_epoch=1000, show_metric=True, snapshot_epoch=False)\n"
   ]
  },
  {
   "cell_type": "code",
   "execution_count": 20,
   "metadata": {
    "collapsed": false
   },
   "outputs": [
    {
     "data": {
      "text/plain": [
       "'\\nW = tensorflow.Variable(tensorflow.zeros([m,1]))\\nb = tensorflow.Variable(tensorflow.zeros([1]))\\n\\nb = tensorflow.Print(b, [b], \"Bias: \")\\nW = tensorflow.Print(W, [W], \"Weights: \")\\n\\ny = tensorflow.add(tensorflow.matmul(X, W), b)\\ny = tensorflow.Print(y, [y], \"y: \")\\n\\nloss = tensorflow.reduce_sum(tensorflow.square(y - y_data)) / (2 * m)\\nloss = tensorflow.Print(loss, [loss], \"loss: \")\\noptimizer = tensorflow.train.GradientDescentOptimizer(.001)\\n\\ntrain = optimizer.minimize(loss)\\n\\ninit = tensorflow.initialize_all_variables()\\n\\nsess = tensorflow.Session()\\nsess.run(init)                                \\n\\nfor i in range(10):\\n  sess.run(train)\\n  #if i % 20 == 0:\\n        #print(sess.run(W), sess.run(b))  \\n\\nsess.close()\\n'"
      ]
     },
     "execution_count": 20,
     "metadata": {},
     "output_type": "execute_result"
    }
   ],
   "source": [
    "\"\"\"\n",
    "W = tensorflow.Variable(tensorflow.zeros([m,1]))\n",
    "b = tensorflow.Variable(tensorflow.zeros([1]))\n",
    "\n",
    "b = tensorflow.Print(b, [b], \"Bias: \")\n",
    "W = tensorflow.Print(W, [W], \"Weights: \")\n",
    "\n",
    "y = tensorflow.add(tensorflow.matmul(X, W), b)\n",
    "y = tensorflow.Print(y, [y], \"y: \")\n",
    "\n",
    "loss = tensorflow.reduce_sum(tensorflow.square(y - y_data)) / (2 * m)\n",
    "loss = tensorflow.Print(loss, [loss], \"loss: \")\n",
    "optimizer = tensorflow.train.GradientDescentOptimizer(.001)\n",
    "\n",
    "train = optimizer.minimize(loss)\n",
    "\n",
    "init = tensorflow.initialize_all_variables()\n",
    "\n",
    "sess = tensorflow.Session()\n",
    "sess.run(init)                                \n",
    "\n",
    "for i in range(10):\n",
    "  sess.run(train)\n",
    "  #if i % 20 == 0:\n",
    "        #print(sess.run(W), sess.run(b))  \n",
    "\n",
    "sess.close()\n",
    "\"\"\""
   ]
  }
 ],
 "metadata": {
  "kernelspec": {
   "display_name": "Python 2",
   "language": "python",
   "name": "python2"
  },
  "language_info": {
   "codemirror_mode": {
    "name": "ipython",
    "version": 2
   },
   "file_extension": ".py",
   "mimetype": "text/x-python",
   "name": "python",
   "nbconvert_exporter": "python",
   "pygments_lexer": "ipython2",
   "version": "2.7.12"
  }
 },
 "nbformat": 4,
 "nbformat_minor": 0
}
