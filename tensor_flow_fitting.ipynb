{
 "cells": [
  {
   "cell_type": "code",
   "execution_count": 1,
   "metadata": {
    "collapsed": false
   },
   "outputs": [
    {
     "name": "stdout",
     "output_type": "stream",
     "text": [
      "hdf5 not supported (please install/reinstall h5py)\n",
      "Done\n"
     ]
    }
   ],
   "source": [
    "# To default to float division and print function.\n",
    "from __future__ import (division, print_function)\n",
    "\n",
    "# Core python libraries\n",
    "import csv\n",
    "import re\n",
    "import math\n",
    "\n",
    "# External libraries.\n",
    "import nltk\n",
    "import numpy\n",
    "import pandas\n",
    "import scipy\n",
    "import sklearn\n",
    "\n",
    "# Tensorflow and related.\n",
    "import tensorflow\n",
    "\n",
    "# For fitting streamlined tensor flow models.\n",
    "import tflearn\n",
    "\n",
    "# So you know when this code block finishes.\n",
    "print (\"Done\")"
   ]
  },
  {
   "cell_type": "code",
   "execution_count": 47,
   "metadata": {
    "collapsed": false
   },
   "outputs": [
    {
     "name": "stdout",
     "output_type": "stream",
     "text": [
      "5000\n"
     ]
    }
   ],
   "source": [
    "#TODO (max): make a library that does all this preprocessing\n",
    "data = pandas.read_csv('data/train.csv', nrows=5000) #Can read a subset. First nrows of the total.\n",
    "LABEL_COLUMN = \"LogSalaryNormalized\"\n",
    "\n",
    "binomial = False\n",
    "\n",
    "if binomial:\n",
    "    # This is for use in exploring logistic regression. Need a binomial outcome variable\n",
    "    LABEL_COLUMN = \"HighPayingJobs\"\n",
    "    data[LABEL_COLUMN] = (data[\"SalaryNormalized\"].apply(lambda x: x >= 30000)).astype(int)\n",
    "\n",
    "print(len(data))"
   ]
  },
  {
   "cell_type": "code",
   "execution_count": 48,
   "metadata": {
    "collapsed": false
   },
   "outputs": [
    {
     "name": "stdout",
     "output_type": "stream",
     "text": [
      "Done\n"
     ]
    }
   ],
   "source": [
    "X_train_index, X_test_index, Y_train, Y_test = sklearn.cross_validation.train_test_split(\n",
    "    data.index, data['LogSalaryNormalized'], test_size=.33, random_state=42)\n",
    "\n",
    "# Keep train and test as pandas dataframes.\n",
    "X_train = data.iloc[X_train_index]\n",
    "X_test = data.iloc[X_test_index]\n",
    "\n",
    "yb_train = X_train[LABEL_COLUMN]\n",
    "yb_test= X_test[LABEL_COLUMN]\n",
    "\n",
    "# Uncomment this next line if you want to check the data.\n",
    "#print(data.head())\n",
    "\n",
    "print (\"Done\")"
   ]
  },
  {
   "cell_type": "code",
   "execution_count": 6,
   "metadata": {
    "collapsed": false
   },
   "outputs": [
    {
     "name": "stdout",
     "output_type": "stream",
     "text": [
      "(3350, 7166)\n",
      "(1650, 7166)\n"
     ]
    }
   ],
   "source": [
    "MIN_WORD_FREQUENCY = 3\n",
    "\n",
    "count_vect = sklearn.feature_extraction.text.CountVectorizer(\n",
    "  stop_words='english', min_df=MIN_WORD_FREQUENCY)\n",
    "\n",
    "# Here I am count vectoring the full description field. But in theory\n",
    "# any text field can be processed this way.\n",
    "X_train_full_description_counts = count_vect.fit_transform(X_train['FullDescriptionWithTitle'])\n",
    "X_test_full_description_counts = count_vect.transform(X_test['FullDescriptionWithTitle'])\n",
    "\n",
    "print(X_train_full_description_counts.shape)\n",
    "print(X_test_full_description_counts.shape)\n",
    "#TODO (max): supress the VisibleDeprecationWarning here from numpy. It is being thrown by the package."
   ]
  },
  {
   "cell_type": "code",
   "execution_count": 7,
   "metadata": {
    "collapsed": false
   },
   "outputs": [
    {
     "name": "stdout",
     "output_type": "stream",
     "text": [
      "Mean salary value in training set is  £  27669.95\n",
      "Guess the average Mean Absolute Error: 10490.1392\n",
      "SGDRegressor Mean Absolute Error: 22185.5734\n"
     ]
    }
   ],
   "source": [
    "def mean_absolute_error_salary_scale(y_test, y_predicted):\n",
    "    return sklearn.metrics.mean_absolute_error(\n",
    "        numpy.exp(y_test), numpy.exp(y_predicted))\n",
    "\n",
    "# Guess the average. Create an empty vector of the desired shape.\n",
    "average_guess = numpy.empty(Y_test.shape)\n",
    "average_guess.fill(numpy.mean(Y_train))\n",
    "\n",
    "mean_guess = average_guess[0]\n",
    "print('Mean salary value in training set is  £{:10.2f}'.format(math.exp(mean_guess)))\n",
    "average_guess_mae = mean_absolute_error_salary_scale(Y_test, average_guess)\n",
    "print('Guess the average Mean Absolute Error: {:10.4f}'.format(average_guess_mae))\n",
    "\n",
    "# SGD Needs normalized inputs\n",
    "normalizer = sklearn.preprocessing.Normalizer(norm='l1')\n",
    "X_train_norm = normalizer.fit_transform(X_train_full_description_counts.astype('float64'))\n",
    "X_test_norm = normalizer.transform(X_test_full_description_counts.astype('float64'))\n",
    "\n",
    "# We want a stochastic gradient descent with l1 norm.\n",
    "sgd = sklearn.linear_model.SGDRegressor(alpha=.005, penalty='l1', n_iter=100)\n",
    "sgd.fit(X_train_norm, Y_train)\n",
    "sgd_predictions = sgd.predict(X_test_norm)\n",
    "sgd_mae = mean_absolute_error_salary_scale(Y_test, sgd_predictions)\n",
    "print('SGDRegressor Mean Absolute Error: {:10.4f}'.format(sgd_mae))\n",
    "#TODO (any): wonder why this is so inaccurate/wrong"
   ]
  },
  {
   "cell_type": "code",
   "execution_count": 91,
   "metadata": {
    "collapsed": false
   },
   "outputs": [],
   "source": [
    "# feature_cols: A dict from feature column names to Tensors or SparseTensors.\n",
    "# label: A Tensor containing the label column\n",
    "\n",
    "# The keys of the feature_cols will be used to when construct columns in the next\n",
    "# section. Because we want to call the fit and evaluate methods with different \n",
    "# data, we define two different input builder functions, train_input_fn and\n",
    "# test_input_fn which are identical except that they pass different data to\n",
    "# input_fn. Note that input_fn will be called while constructing the TensorFlow\n",
    "# graph, not while running the graph. What it is returning is a representation\n",
    "# of the input data as the fundamental unit of TensorFlow computations, a Tensor\n",
    "# (or SparseTensor).\n",
    "\n",
    "CONTINUOUS_COLUMNS = [\"LogSalaryNormalized\", \"DescriptionLength\"]\n",
    "\n",
    "CATEGORICAL_COLUMNS = [\"ContractTime\", \"ContractType\"]\n",
    "\n",
    "def input_fn(df):\n",
    "  # Creates a dictionary mapping from each continuous feature column name (k) to\n",
    "  # the values of that column stored in a constant Tensor.\n",
    "  continuous_cols = {k: tensorflow.constant(df[k].values)\n",
    "                     for k in CONTINUOUS_COLUMNS}\n",
    "  # Creates a dictionary mapping from each categorical feature column name (k)\n",
    "  # to the values of that column stored in a tensorflow.SparseTensor.\n",
    "  categorical_cols = {k: tensorflow.SparseTensor(\n",
    "      indices=[[i, 0] for i in range(df[k].size)],\n",
    "      values=df[k].values,\n",
    "      shape=[df[k].size, 1])\n",
    "                      for k in CATEGORICAL_COLUMNS}\n",
    "  # Merges the two dictionaries into one.\n",
    "  feature_cols = dict(continuous_cols.items() + categorical_cols.items())\n",
    "  # Converts the label column into a constant Tensor.\n",
    "  label = tensorflow.constant(df[LABEL_COLUMN].values)\n",
    "  # Returns the feature columns and the label.\n",
    "  return feature_cols, label\n",
    "\n",
    "def train_input_fn():\n",
    "  return input_fn(X_train)\n",
    "\n",
    "def eval_input_fn():\n",
    "  return input_fn(X_test)\n",
    "\n",
    "\n",
    "import tempfile\n",
    "\n",
    "# This is a test. It should give 100% accuracy. Something is amiss.\n",
    "salary_normalized = tensorflow.contrib.layers.real_valued_column(\n",
    "    \"LogSalaryNormalized\")\n",
    "# Real features.\n",
    "description_length = tensorflow.contrib.layers.real_valued_column(\n",
    "    \"DescriptionLength\")\n",
    "\n",
    "contract_time = tensorflow.contrib.layers.sparse_column_with_hash_bucket(\n",
    "    \"ContractTime\", hash_bucket_size=100)\n",
    "contract_type = tensorflow.contrib.layers.sparse_column_with_hash_bucket(\n",
    "    \"ContractType\", hash_bucket_size=100)\n",
    "\n",
    "FEATURE_COLUMNS = [\n",
    "        # salary_normalized,\n",
    "        description_length, contract_time, contract_type\n",
    "    ]\n",
    "\n",
    "model_dir = tempfile.mkdtemp()\n",
    "m = tensorflow.contrib.learn.LinearRegressor(feature_columns=FEATURE_COLUMNS,\n",
    "    #\"\"\"optimizer=tensorflow.train.FtrlOptimizer(\n",
    "    #learning_rate=0.1,\n",
    "    #l1_regularization_strength=1.0,\n",
    "    #l2_regularization_strength=1.0)\"\"\"\n",
    "  model_dir=model_dir)"
   ]
  },
  {
   "cell_type": "code",
   "execution_count": 100,
   "metadata": {
    "collapsed": false
   },
   "outputs": [
    {
     "name": "stderr",
     "output_type": "stream",
     "text": [
      "WARNING:tensorflow:create_partitioned_variables is deprecated.  Use tf.get_variable with a partitioner set, or tf.get_partitioned_variable_list, instead.\n",
      "WARNING:tensorflow:create_partitioned_variables is deprecated.  Use tf.get_variable with a partitioner set, or tf.get_partitioned_variable_list, instead.\n"
     ]
    },
    {
     "data": {
      "text/plain": [
       "LinearRegressor()"
      ]
     },
     "execution_count": 100,
     "metadata": {},
     "output_type": "execute_result"
    }
   ],
   "source": [
    "m.fit(input_fn=train_input_fn, steps=3000)\n"
   ]
  },
  {
   "cell_type": "code",
   "execution_count": 101,
   "metadata": {
    "collapsed": false
   },
   "outputs": [
    {
     "name": "stderr",
     "output_type": "stream",
     "text": [
      "WARNING:tensorflow:create_partitioned_variables is deprecated.  Use tf.get_variable with a partitioner set, or tf.get_partitioned_variable_list, instead.\n",
      "WARNING:tensorflow:create_partitioned_variables is deprecated.  Use tf.get_variable with a partitioner set, or tf.get_partitioned_variable_list, instead.\n"
     ]
    },
    {
     "name": "stdout",
     "output_type": "stream",
     "text": [
      "loss: 0.297318\n"
     ]
    }
   ],
   "source": [
    "results = m.evaluate(input_fn=eval_input_fn, steps=1)\n",
    "for key in sorted(results):\n",
    "    print (\"%s: %s\" % (key, results[key]))"
   ]
  },
  {
   "cell_type": "code",
   "execution_count": 102,
   "metadata": {
    "collapsed": false
   },
   "outputs": [
    {
     "name": "stderr",
     "output_type": "stream",
     "text": [
      "WARNING:tensorflow:create_partitioned_variables is deprecated.  Use tf.get_variable with a partitioner set, or tf.get_partitioned_variable_list, instead.\n",
      "WARNING:tensorflow:create_partitioned_variables is deprecated.  Use tf.get_variable with a partitioner set, or tf.get_partitioned_variable_list, instead.\n"
     ]
    },
    {
     "data": {
      "image/png": "[encoded data removed]",
      "text/plain": [
       "<matplotlib.figure.Figure at 0x7fd82aa35c50>"
      ]
     },
     "metadata": {},
     "output_type": "display_data"
    },
    {
     "name": "stdout",
     "output_type": "stream",
     "text": [
      "1501   -0.331539\n",
      "2586   -0.189387\n",
      "2653   -0.947171\n",
      "1055    0.148050\n",
      "705    -0.544096\n",
      "106     0.470289\n",
      "589    -0.658666\n",
      "2468    1.210997\n",
      "2413   -0.211858\n",
      "1600    0.591787\n",
      "2464    0.004721\n",
      "228    -0.305507\n",
      "915    -0.135452\n",
      "794    -0.156998\n",
      "3021   -0.437716\n",
      "...\n",
      "1237    0.059701\n",
      "103    -0.380451\n",
      "2643    0.055527\n",
      "272     0.483545\n",
      "508     0.275529\n",
      "2226    0.284970\n",
      "4933    0.093357\n",
      "2441    0.340052\n",
      "865    -0.053492\n",
      "3326   -0.048866\n",
      "908    -0.327740\n",
      "2114    0.356737\n",
      "3896    0.324646\n",
      "1627    0.085365\n",
      "2873    0.232752\n",
      "Name: LogSalaryNormalized, Length: 1650, dtype: float64\n",
      "13507.5854859\n"
     ]
    }
   ],
   "source": [
    "%matplotlib inline\n",
    "\n",
    "import matplotlib.pyplot as plt\n",
    "\n",
    "x, y = eval_input_fn()\n",
    "\n",
    "# There is the old issue :D All 0 values :(\n",
    "y_vals = m.predict(input_fn=eval_input_fn)\n",
    "x_vals = X_test[LABEL_COLUMN]\n",
    "\n",
    "\n",
    "plt.scatter(x_vals, y_vals)\n",
    "plt.show()\n",
    "\n",
    "print(x_vals-y_vals)\n",
    "\n",
    "print(mean_absolute_error_salary_scale(y_vals, x_vals))"
   ]
  },
  {
   "cell_type": "code",
   "execution_count": 109,
   "metadata": {
    "collapsed": false
   },
   "outputs": [],
   "source": [
    "d =  tensorflow.contrib.learn.DNNRegressor(\n",
    "    feature_columns=[description_length],\n",
    "    hidden_units=[64, 32, 8])"
   ]
  },
  {
   "cell_type": "code",
   "execution_count": 110,
   "metadata": {
    "collapsed": false
   },
   "outputs": [
    {
     "data": {
      "text/plain": [
       "DNNRegressor()"
      ]
     },
     "execution_count": 110,
     "metadata": {},
     "output_type": "execute_result"
    }
   ],
   "source": [
    "d.fit(input_fn=train_input_fn, steps=1000)\n"
   ]
  },
  {
   "cell_type": "code",
   "execution_count": 111,
   "metadata": {
    "collapsed": false
   },
   "outputs": [
    {
     "name": "stdout",
     "output_type": "stream",
     "text": [
      "loss: 11.8243\n"
     ]
    }
   ],
   "source": [
    "results = d.evaluate(input_fn=eval_input_fn, steps=1)\n",
    "for key in sorted(results):\n",
    "    print (\"%s: %s\" % (key, results[key]))"
   ]
  },
  {
   "cell_type": "code",
   "execution_count": null,
   "metadata": {
    "collapsed": true
   },
   "outputs": [],
   "source": [
    "# deep_columns = [\n",
    "#  tf.contrib.layers.embedding_column(workclass, dimension=8),\n",
    "#]\n",
    "\n",
    "# Continue on from https://www.tensorflow.org/versions/r0.10/tutorials/wide_and_deep/index.html"
   ]
  }
 ],
 "metadata": {
  "kernelspec": {
   "display_name": "Python 2",
   "language": "python",
   "name": "python2"
  },
  "language_info": {
   "codemirror_mode": {
    "name": "ipython",
    "version": 2
   },
   "file_extension": ".py",
   "mimetype": "text/x-python",
   "name": "python",
   "nbconvert_exporter": "python",
   "pygments_lexer": "ipython2",
   "version": "2.7.12"
  }
 },
 "nbformat": 4,
 "nbformat_minor": 0
}
